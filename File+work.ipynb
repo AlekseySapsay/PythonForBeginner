{
 "cells": [
  {
   "cell_type": "code",
   "execution_count": 1,
   "metadata": {},
   "outputs": [
    {
     "ename": "FileNotFoundError",
     "evalue": "[Errno 2] No such file or directory: 'filename.txt'",
     "output_type": "error",
     "traceback": [
      "\u001b[1;31m---------------------------------------------------------------------------\u001b[0m",
      "\u001b[1;31mFileNotFoundError\u001b[0m                         Traceback (most recent call last)",
      "\u001b[1;32m<ipython-input-1-e426e44a97a9>\u001b[0m in \u001b[0;36m<module>\u001b[1;34m()\u001b[0m\n\u001b[1;32m----> 1\u001b[1;33m \u001b[0mmyfile\u001b[0m \u001b[1;33m=\u001b[0m \u001b[0mopen\u001b[0m\u001b[1;33m(\u001b[0m\u001b[1;34m\"filename.txt\"\u001b[0m\u001b[1;33m)\u001b[0m\u001b[1;33m\u001b[0m\u001b[0m\n\u001b[0m",
      "\u001b[1;31mFileNotFoundError\u001b[0m: [Errno 2] No such file or directory: 'filename.txt'"
     ]
    }
   ],
   "source": [
    "myfile = open(\"filename.txt\")"
   ]
  },
  {
   "cell_type": "code",
   "execution_count": 13,
   "metadata": {
    "collapsed": true
   },
   "outputs": [],
   "source": [
    "myfile=open(\"test.txt\",\"a\")\n"
   ]
  },
  {
   "cell_type": "code",
   "execution_count": 14,
   "metadata": {},
   "outputs": [
    {
     "data": {
      "text/plain": [
       "<_io.BufferedWriter name='filename.txt'>"
      ]
     },
     "execution_count": 14,
     "metadata": {},
     "output_type": "execute_result"
    }
   ],
   "source": [
    "'''\n",
    "You can specify the mode used to open a file by applying a second argument to the open function.\n",
    "Sending \"r\" means open in read mode, which is the default. \n",
    "Sending \"w\" means write mode, for rewriting the contents of a file.\n",
    "Sending \"a\" means append mode, for adding new content to the end of the file.\n",
    "\n",
    "Adding \"b\" to a mode opens it in binary mode, which is used for non-text files (such as image and sound files).\n",
    "'''\n",
    "\n",
    "# write mode\n",
    "open(\"filename.txt\", \"w\")\n",
    "\n",
    "# read mode\n",
    "open(\"filename.txt\", \"r\")\n",
    "open(\"filename.txt\")\n",
    "\n",
    "# binary write mode\n",
    "open(\"filename.txt\", \"wb\")"
   ]
  },
  {
   "cell_type": "code",
   "execution_count": 15,
   "metadata": {
    "collapsed": true
   },
   "outputs": [],
   "source": [
    "file = open(\"filename.txt\", \"w\")\n",
    "# do stuff to the file\n",
    "file.close()"
   ]
  },
  {
   "cell_type": "code",
   "execution_count": 16,
   "metadata": {
    "collapsed": true
   },
   "outputs": [],
   "source": [
    "file= open(\"test.txt\",\"w\")\n",
    "file.close()"
   ]
  },
  {
   "cell_type": "code",
   "execution_count": 17,
   "metadata": {},
   "outputs": [
    {
     "data": {
      "text/plain": [
       "<function TextIOWrapper.close>"
      ]
     },
     "execution_count": 17,
     "metadata": {},
     "output_type": "execute_result"
    }
   ],
   "source": [
    "file= open(\"test.txt\",\"r\")\n",
    "file.close"
   ]
  },
  {
   "cell_type": "code",
   "execution_count": 19,
   "metadata": {},
   "outputs": [
    {
     "data": {
      "text/plain": [
       "<function TextIOWrapper.close>"
      ]
     },
     "execution_count": 19,
     "metadata": {},
     "output_type": "execute_result"
    }
   ],
   "source": [
    "file= open(\"test.txt\",\"a\")\n",
    "file.close"
   ]
  },
  {
   "cell_type": "code",
   "execution_count": 20,
   "metadata": {},
   "outputs": [
    {
     "data": {
      "text/plain": [
       "<function TextIOWrapper.close>"
      ]
     },
     "execution_count": 20,
     "metadata": {},
     "output_type": "execute_result"
    }
   ],
   "source": [
    "file= open(\"test.txt\",\"r\")\n",
    "file.close"
   ]
  },
  {
   "cell_type": "code",
   "execution_count": 21,
   "metadata": {},
   "outputs": [
    {
     "data": {
      "text/plain": [
       "<function TextIOWrapper.close>"
      ]
     },
     "execution_count": 21,
     "metadata": {},
     "output_type": "execute_result"
    }
   ],
   "source": [
    "file= open(\"test.txt\",\"w\")\n",
    "file.close"
   ]
  },
  {
   "cell_type": "code",
   "execution_count": 22,
   "metadata": {},
   "outputs": [
    {
     "data": {
      "text/plain": [
       "<function TextIOWrapper.close>"
      ]
     },
     "execution_count": 22,
     "metadata": {},
     "output_type": "execute_result"
    }
   ],
   "source": [
    "file= open(\"test.txt\",\"r\")\n",
    "file.close"
   ]
  },
  {
   "cell_type": "code",
   "execution_count": 23,
   "metadata": {},
   "outputs": [
    {
     "data": {
      "text/plain": [
       "<function TextIOWrapper.close>"
      ]
     },
     "execution_count": 23,
     "metadata": {},
     "output_type": "execute_result"
    }
   ],
   "source": [
    "file= open(\"test.txt\",\"r\")\n",
    "file.close"
   ]
  },
  {
   "cell_type": "code",
   "execution_count": 24,
   "metadata": {},
   "outputs": [
    {
     "data": {
      "text/plain": [
       "<function TextIOWrapper.close>"
      ]
     },
     "execution_count": 24,
     "metadata": {},
     "output_type": "execute_result"
    }
   ],
   "source": [
    "file=open(\"test.txt\",\"a\")\n",
    "file.close"
   ]
  },
  {
   "cell_type": "code",
   "execution_count": 25,
   "metadata": {},
   "outputs": [
    {
     "data": {
      "text/plain": [
       "<function TextIOWrapper.close>"
      ]
     },
     "execution_count": 25,
     "metadata": {},
     "output_type": "execute_result"
    }
   ],
   "source": [
    "file=open(\"test.txt\",\"a\")\n",
    "file.close"
   ]
  },
  {
   "cell_type": "code",
   "execution_count": 26,
   "metadata": {},
   "outputs": [
    {
     "data": {
      "text/plain": [
       "<function TextIOWrapper.close>"
      ]
     },
     "execution_count": 26,
     "metadata": {},
     "output_type": "execute_result"
    }
   ],
   "source": [
    "file=open(\"test.txt\",\"a\")\n",
    "file.close"
   ]
  },
  {
   "cell_type": "code",
   "execution_count": 27,
   "metadata": {},
   "outputs": [
    {
     "data": {
      "text/plain": [
       "<function TextIOWrapper.close>"
      ]
     },
     "execution_count": 27,
     "metadata": {},
     "output_type": "execute_result"
    }
   ],
   "source": [
    "file=open(\"test.txt\",\"a\")\n",
    "file.close"
   ]
  },
  {
   "cell_type": "code",
   "execution_count": 28,
   "metadata": {},
   "outputs": [
    {
     "data": {
      "text/plain": [
       "<function TextIOWrapper.close>"
      ]
     },
     "execution_count": 28,
     "metadata": {},
     "output_type": "execute_result"
    }
   ],
   "source": [
    "file=open(\"test.txt\",\"w\")\n",
    "file.close"
   ]
  },
  {
   "cell_type": "code",
   "execution_count": 29,
   "metadata": {},
   "outputs": [
    {
     "data": {
      "text/plain": [
       "<function TextIOWrapper.close>"
      ]
     },
     "execution_count": 29,
     "metadata": {},
     "output_type": "execute_result"
    }
   ],
   "source": [
    "file=open(\"test.txt\",\"w\")\n",
    "file.close"
   ]
  },
  {
   "cell_type": "code",
   "execution_count": 30,
   "metadata": {},
   "outputs": [
    {
     "data": {
      "text/plain": [
       "<function TextIOWrapper.close>"
      ]
     },
     "execution_count": 30,
     "metadata": {},
     "output_type": "execute_result"
    }
   ],
   "source": [
    "file=open(\"test.txt\",\"r\")\n",
    "file.close"
   ]
  },
  {
   "cell_type": "code",
   "execution_count": 31,
   "metadata": {},
   "outputs": [
    {
     "data": {
      "text/plain": [
       "<function TextIOWrapper.close>"
      ]
     },
     "execution_count": 31,
     "metadata": {},
     "output_type": "execute_result"
    }
   ],
   "source": [
    "file=open(\"test.txt\",\"a\")\n",
    "file.close"
   ]
  },
  {
   "cell_type": "code",
   "execution_count": 32,
   "metadata": {},
   "outputs": [
    {
     "data": {
      "text/plain": [
       "<function TextIOWrapper.close>"
      ]
     },
     "execution_count": 32,
     "metadata": {},
     "output_type": "execute_result"
    }
   ],
   "source": [
    "file=open(\"test.txt\",\"w\")\n",
    "file.close"
   ]
  },
  {
   "cell_type": "code",
   "execution_count": 33,
   "metadata": {},
   "outputs": [
    {
     "data": {
      "text/plain": [
       "<function TextIOWrapper.close>"
      ]
     },
     "execution_count": 33,
     "metadata": {},
     "output_type": "execute_result"
    }
   ],
   "source": [
    "file=open(\"test.txt\",\"r\")\n",
    "file.close"
   ]
  },
  {
   "cell_type": "code",
   "execution_count": 34,
   "metadata": {},
   "outputs": [
    {
     "data": {
      "text/plain": [
       "<function TextIOWrapper.close>"
      ]
     },
     "execution_count": 34,
     "metadata": {},
     "output_type": "execute_result"
    }
   ],
   "source": [
    "file=open(\"test.txt\",\"a\")\n",
    "file.close"
   ]
  },
  {
   "cell_type": "code",
   "execution_count": 35,
   "metadata": {},
   "outputs": [
    {
     "data": {
      "text/plain": [
       "<function TextIOWrapper.close>"
      ]
     },
     "execution_count": 35,
     "metadata": {},
     "output_type": "execute_result"
    }
   ],
   "source": [
    "file=open(\"test.txt\",\"w\")\n",
    "file.close"
   ]
  },
  {
   "cell_type": "code",
   "execution_count": 36,
   "metadata": {},
   "outputs": [
    {
     "data": {
      "text/plain": [
       "<function TextIOWrapper.close>"
      ]
     },
     "execution_count": 36,
     "metadata": {},
     "output_type": "execute_result"
    }
   ],
   "source": [
    "file=open(\"test.txt\",\"r\")\n",
    "file.close"
   ]
  },
  {
   "cell_type": "code",
   "execution_count": 37,
   "metadata": {},
   "outputs": [
    {
     "data": {
      "text/plain": [
       "<function TextIOWrapper.close>"
      ]
     },
     "execution_count": 37,
     "metadata": {},
     "output_type": "execute_result"
    }
   ],
   "source": [
    "file=open(\"test.txt\",\"w\")\n",
    "file.close"
   ]
  },
  {
   "cell_type": "code",
   "execution_count": 38,
   "metadata": {},
   "outputs": [
    {
     "data": {
      "text/plain": [
       "<function TextIOWrapper.close>"
      ]
     },
     "execution_count": 38,
     "metadata": {},
     "output_type": "execute_result"
    }
   ],
   "source": [
    "file=open(\"test.txt\",\"r\")\n",
    "file.close"
   ]
  },
  {
   "cell_type": "code",
   "execution_count": 39,
   "metadata": {
    "collapsed": true
   },
   "outputs": [],
   "source": [
    "file=open(\"test.txt\",\"r\")\n",
    "file.close()"
   ]
  },
  {
   "cell_type": "code",
   "execution_count": 40,
   "metadata": {
    "collapsed": true
   },
   "outputs": [],
   "source": [
    "file=open(\"test.txt\",\"r\")\n",
    "file.close()"
   ]
  },
  {
   "cell_type": "code",
   "execution_count": 41,
   "metadata": {
    "collapsed": true
   },
   "outputs": [],
   "source": [
    "file=open(\"test.txt\",\"w\")\n",
    "file.close()"
   ]
  },
  {
   "cell_type": "code",
   "execution_count": 42,
   "metadata": {},
   "outputs": [
    {
     "name": "stdout",
     "output_type": "stream",
     "text": [
      "\n"
     ]
    }
   ],
   "source": [
    "file = open(\"test.txt\", \"r\")\n",
    "cont = file.read()\n",
    "print(cont)\n",
    "file.close()"
   ]
  },
  {
   "cell_type": "code",
   "execution_count": 46,
   "metadata": {},
   "outputs": [
    {
     "name": "stdout",
     "output_type": "stream",
     "text": [
      "\n"
     ]
    }
   ],
   "source": [
    "file = open(\"filename.txt\", \"r\")\n",
    "contents  = file.read()\n",
    "print(cont)\n",
    "file.close()"
   ]
  },
  {
   "cell_type": "code",
   "execution_count": 47,
   "metadata": {},
   "outputs": [
    {
     "name": "stdout",
     "output_type": "stream",
     "text": [
      "Это самый важный в мире файл! В нем будет храниться самая важная информация для человечества- мой опыт и знания о том как я изучаю машинное обучение!\n"
     ]
    }
   ],
   "source": [
    "file = open(\"test2.txt\",\"r\")\n",
    "contents = file.read()\n",
    "print(contents)\n",
    "file.close()"
   ]
  },
  {
   "cell_type": "code",
   "execution_count": 48,
   "metadata": {},
   "outputs": [
    {
     "name": "stdout",
     "output_type": "stream",
     "text": [
      "Это самый важный в мире файл! В нем будет храниться самая важная информация для человечества- мой опыт и знания о том как я изучаю машинное обучение!\n"
     ]
    }
   ],
   "source": [
    "file = open(\"test2.txt\",\"r\")\n",
    "contents = file.read()\n",
    "print(contents)\n",
    "file.close()"
   ]
  },
  {
   "cell_type": "code",
   "execution_count": 49,
   "metadata": {},
   "outputs": [
    {
     "name": "stdout",
     "output_type": "stream",
     "text": [
      "Это самый важный в мире файл! В нем будет храниться самая важная информация для человечества- мой опыт и знания о том как я изучаю машинное обучение!\n"
     ]
    }
   ],
   "source": [
    "file=open(\"test2.txt\",\"r\")\n",
    "contents = file.read()\n",
    "print(contents)\n",
    "file.close()"
   ]
  },
  {
   "cell_type": "code",
   "execution_count": 50,
   "metadata": {},
   "outputs": [
    {
     "name": "stdout",
     "output_type": "stream",
     "text": [
      "Это самый важный в мире файл! В нем будет храниться самая важная информация для человечества- мой опыт и знания о том как я изучаю машинное обучение!\n"
     ]
    }
   ],
   "source": [
    "file=open(\"test2.txt\",\"r\")\n",
    "contents = file.read()\n",
    "print(contents)\n",
    "file.close()"
   ]
  },
  {
   "cell_type": "code",
   "execution_count": 52,
   "metadata": {},
   "outputs": [
    {
     "name": "stdout",
     "output_type": "stream",
     "text": [
      "Это самый важный в мире файл! В нем будет храниться самая важная информация для человечества- мой опыт и знания о том как я изучаю машинное обучение!\n"
     ]
    }
   ],
   "source": [
    "file=open(\"test2.txt\",\"r\")\n",
    "contents = file.read()\n",
    "print(contents)\n",
    "file.close()"
   ]
  },
  {
   "cell_type": "code",
   "execution_count": 53,
   "metadata": {},
   "outputs": [
    {
     "name": "stdout",
     "output_type": "stream",
     "text": [
      "Это самый важный в мире файл! В нем будет храниться самая важная информация для человечества- мой опыт и знания о том как я изучаю машинное обучение!\n"
     ]
    }
   ],
   "source": [
    "file= open(\"test2.txt\",\"r\")\n",
    "contents = file.read()\n",
    "print(contents)\n",
    "file.close()"
   ]
  },
  {
   "cell_type": "code",
   "execution_count": 54,
   "metadata": {},
   "outputs": [
    {
     "name": "stdout",
     "output_type": "stream",
     "text": [
      "Это самый важный в мире файл! В нем будет храниться самая важная информация для человечества- мой опыт и знания о том как я изучаю машинное обучение!\n"
     ]
    }
   ],
   "source": [
    "file = open(\"test2.txt\",\"r\")\n",
    "contents = file.read()\n",
    "print(contents)\n",
    "file.close()"
   ]
  },
  {
   "cell_type": "code",
   "execution_count": 55,
   "metadata": {},
   "outputs": [
    {
     "name": "stdout",
     "output_type": "stream",
     "text": [
      "Это самый важный в мире файл! В нем будет храниться самая важная информация для человечества- мой опыт и знания о том как я изучаю машинное обучение!\n"
     ]
    }
   ],
   "source": [
    "file=open(\"test2.txt\",\"r\")\n",
    "contents=file.read()\n",
    "print(contents)\n",
    "file.close()"
   ]
  },
  {
   "cell_type": "code",
   "execution_count": 56,
   "metadata": {},
   "outputs": [
    {
     "name": "stdout",
     "output_type": "stream",
     "text": [
      "Это самый важный в мире файл! В нем будет храниться самая важная информация для человечества- мой опыт и знания о том как я изучаю машинное обучение!\n"
     ]
    }
   ],
   "source": [
    "file=open(\"test2.txt\",'r')\n",
    "contents=file.read()\n",
    "print(contents)\n",
    "file.close()"
   ]
  },
  {
   "cell_type": "code",
   "execution_count": 57,
   "metadata": {},
   "outputs": [
    {
     "name": "stdout",
     "output_type": "stream",
     "text": [
      "Это самый важный в мире файл! В нем будет храниться самая важная информация для человечества- мой опыт и знания о том как я изучаю машинное обучение!\n"
     ]
    }
   ],
   "source": [
    "file=open(\"test2.txt\",\"r\")\n",
    "contents = file.read()\n",
    "print(contents)\n",
    "file.close()"
   ]
  },
  {
   "cell_type": "code",
   "execution_count": 59,
   "metadata": {},
   "outputs": [
    {
     "name": "stdout",
     "output_type": "stream",
     "text": [
      "Это самый важный в мире файл! В нем будет храниться самая важная информация для человечества- мой опыт и знания о том как я изучаю машинное обучение!\n"
     ]
    }
   ],
   "source": [
    "file=open(\"test2.txt\",\"r\")\n",
    "contents=file.read()\n",
    "print(contents)\n",
    "file.close()"
   ]
  },
  {
   "cell_type": "code",
   "execution_count": 60,
   "metadata": {},
   "outputs": [
    {
     "name": "stdout",
     "output_type": "stream",
     "text": [
      "Это самый важный в мире файл! В нем будет храниться самая важная информация для человечества- мой опыт и знания о том как я изучаю машинное обучение!\n"
     ]
    }
   ],
   "source": [
    "file=open(\"test2.txt\",\"r\")\n",
    "contents= file.read()\n",
    "print(contents)\n",
    "file.close()"
   ]
  },
  {
   "cell_type": "code",
   "execution_count": 62,
   "metadata": {},
   "outputs": [
    {
     "name": "stdout",
     "output_type": "stream",
     "text": [
      "Это самый важный в мире файл! В нем будет храниться самая важная информация для человечества- мой опыт и знания о том как я изучаю машинное обучение!\n"
     ]
    }
   ],
   "source": [
    "file=open(\"test2.txt\",\"r\")\n",
    "contents = file.read()\n",
    "print(contents)\n",
    "file.close()"
   ]
  },
  {
   "cell_type": "code",
   "execution_count": 64,
   "metadata": {},
   "outputs": [
    {
     "name": "stdout",
     "output_type": "stream",
     "text": [
      "Это самый важный в мире файл! В нем будет храниться самая важная информация для человечества- мой опыт и знания о том как я изучаю машинное обучение!\n"
     ]
    }
   ],
   "source": [
    "file=open(\"test2.txt\",\"r\")\n",
    "contents = file.read()\n",
    "print(contents)\n",
    "file.close()"
   ]
  },
  {
   "cell_type": "code",
   "execution_count": 65,
   "metadata": {},
   "outputs": [
    {
     "name": "stdout",
     "output_type": "stream",
     "text": [
      "Это самый важный в мире файл! В нем будет храниться самая важная информация для человечества- мой опыт и знания о том как я изучаю машинное обучение!\n"
     ]
    }
   ],
   "source": [
    "file= open(\"test2.txt\")\n",
    "contents = file.read()\n",
    "print(contents)\n",
    "file.close()"
   ]
  },
  {
   "cell_type": "code",
   "execution_count": 67,
   "metadata": {},
   "outputs": [
    {
     "name": "stdout",
     "output_type": "stream",
     "text": [
      "Это самый важный в мире файл! В нем будет храниться самая важная информация для человечества- мой опыт и знания о том как я изучаю машинное обучение! Достаточно пафоса?\n",
      "\n"
     ]
    }
   ],
   "source": [
    "file = open(\"test2.txt\", \"r\")\n",
    "cont = file.read()\n",
    "print(cont)\n",
    "file.close()"
   ]
  },
  {
   "cell_type": "code",
   "execution_count": 70,
   "metadata": {},
   "outputs": [
    {
     "name": "stdout",
     "output_type": "stream",
     "text": [
      "Это самый важный в мире файл! В нем будет храниться самая важная информация для человечества- мой опыт и знания о том как я изучаю машинное обучение!\n"
     ]
    }
   ],
   "source": [
    "file = open(\"test2.txt\",'r')\n",
    "countents = file.read()\n",
    "print(contents)\n",
    "file.close()"
   ]
  },
  {
   "cell_type": "code",
   "execution_count": 73,
   "metadata": {},
   "outputs": [
    {
     "name": "stdout",
     "output_type": "stream",
     "text": [
      "Это самый важный в мире файл! В нем будет храниться самая важная информация для человечества- мой опыт и знания о том как я изучаю машинное обучение!\n"
     ]
    }
   ],
   "source": [
    "file = open(\"test2.txt\",\"r\")\n",
    "counters= file.read()\n",
    "print(contents)\n",
    "file.close()"
   ]
  },
  {
   "cell_type": "code",
   "execution_count": 74,
   "metadata": {},
   "outputs": [
    {
     "name": "stdout",
     "output_type": "stream",
     "text": [
      "\n",
      "\n",
      "\n",
      "\n"
     ]
    }
   ],
   "source": [
    "file = open(\"filename.txt\", \"r\")\n",
    "print(file.read(16))\n",
    "print(file.read(4))\n",
    "print(file.read(4))\n",
    "print(file.read())\n",
    "file.close()"
   ]
  },
  {
   "cell_type": "code",
   "execution_count": 75,
   "metadata": {},
   "outputs": [
    {
     "name": "stdout",
     "output_type": "stream",
     "text": [
      "Re-reading\n",
      "\n",
      "Finished\n"
     ]
    }
   ],
   "source": [
    "file = open(\"test2.txt\", \"r\")\n",
    "file.read()\n",
    "print(\"Re-reading\")\n",
    "print(file.read())\n",
    "print(\"Finished\")\n",
    "file.close()"
   ]
  },
  {
   "cell_type": "code",
   "execution_count": 76,
   "metadata": {},
   "outputs": [
    {
     "name": "stdout",
     "output_type": "stream",
     "text": [
      "You are trying rereading file again\n",
      "\n",
      "Finished\n"
     ]
    }
   ],
   "source": [
    "file = open(\"test2.txt\",\"r\")\n",
    "file.read()\n",
    "print(\"You are trying rereading file again\")\n",
    "print(file.read())\n",
    "print(\"Finished\")\n",
    "file.close()"
   ]
  },
  {
   "cell_type": "code",
   "execution_count": 77,
   "metadata": {},
   "outputs": [
    {
     "name": "stdout",
     "output_type": "stream",
     "text": [
      "Do you wanna rereading file agein?\n",
      "\n",
      "finished\n"
     ]
    }
   ],
   "source": [
    "file = open(\"test2.txt\",\"r\")\n",
    "file.read()\n",
    "print(\"Do you wanna rereading file agein?\")\n",
    "print(file.read())\n",
    "print(\"finished\")\n",
    "file.close()"
   ]
  },
  {
   "cell_type": "code",
   "execution_count": 78,
   "metadata": {},
   "outputs": [
    {
     "name": "stdout",
     "output_type": "stream",
     "text": [
      "Do you wanna read more? \n",
      "\n",
      "finished\n"
     ]
    }
   ],
   "source": [
    "file = open(\"test2.txt\",\"r\")\n",
    "file.read()\n",
    "print(\"Do you wanna read more? \")\n",
    "print(file.read())\n",
    "print(\"finished\")\n",
    "file.close()"
   ]
  },
  {
   "cell_type": "code",
   "execution_count": 79,
   "metadata": {},
   "outputs": [
    {
     "name": "stdout",
     "output_type": "stream",
     "text": [
      "rereding file\n",
      "\n",
      "finished\n"
     ]
    }
   ],
   "source": [
    "file= open(\"test2.txt\",\"r\")\n",
    "file.read()\n",
    "print(\"rereding file\")\n",
    "print(file.read())\n",
    "print(\"finished\")\n",
    "file.close()"
   ]
  },
  {
   "cell_type": "code",
   "execution_count": 80,
   "metadata": {},
   "outputs": [
    {
     "name": "stdout",
     "output_type": "stream",
     "text": [
      "reading file\n",
      "\n",
      "finished\n"
     ]
    }
   ],
   "source": [
    "file = open(\"test2.txt\",\"r\")\n",
    "file.read()\n",
    "print(\"reading file\")\n",
    "print(file.read())\n",
    "print(\"finished\")\n",
    "file.close()"
   ]
  },
  {
   "cell_type": "code",
   "execution_count": 81,
   "metadata": {},
   "outputs": [
    {
     "name": "stdout",
     "output_type": "stream",
     "text": [
      "re-reading file\n",
      "\n",
      "finished\n"
     ]
    }
   ],
   "source": [
    "file= open (\"test2.txt\",\"r\")\n",
    "file.read()\n",
    "print(\"re-reading file\")\n",
    "print(file.read())\n",
    "print(\"finished\")\n",
    "file.close()"
   ]
  },
  {
   "cell_type": "code",
   "execution_count": 84,
   "metadata": {},
   "outputs": [
    {
     "name": "stdout",
     "output_type": "stream",
     "text": [
      "re-reading file\n",
      "\n",
      "finished\n"
     ]
    }
   ],
   "source": [
    "file = open(\"test2.txt\",\"r\")\n",
    "file.read()\n",
    "print(\"re-reading file\")\n",
    "print(file.read())\n",
    "print(\"finished\")\n",
    "file.close()"
   ]
  },
  {
   "cell_type": "code",
   "execution_count": 86,
   "metadata": {},
   "outputs": [
    {
     "name": "stdout",
     "output_type": "stream",
     "text": [
      "['Это самый важный в мире файл! В нем будет храниться самая важная информация для человечества- мой опыт и знания о том как я изучаю машинное обучение! Достаточно пафоса?\\n']\n"
     ]
    }
   ],
   "source": [
    "file = open(\"test2.txt\", \"r\")\n",
    "print(file.readlines())\n",
    "file.close()"
   ]
  },
  {
   "cell_type": "code",
   "execution_count": 87,
   "metadata": {},
   "outputs": [
    {
     "name": "stdout",
     "output_type": "stream",
     "text": [
      "['Это самый важный в мире файл! В нем будет храниться самая важная информация для человечества- мой опыт и знания о том как я изучаю машинное обучение! Достаточно пафоса?\\n']\n"
     ]
    }
   ],
   "source": [
    "file = open(\"test2.txt\",\"r\")\n",
    "print(file.readlines())\n",
    "file.close()"
   ]
  },
  {
   "cell_type": "code",
   "execution_count": 88,
   "metadata": {},
   "outputs": [
    {
     "name": "stdout",
     "output_type": "stream",
     "text": [
      "['LSdklfgajlerkljylq243u56028096uyerjgkasndlkfg\\n', 'afdgjkhajksrht 18756qjrlga\\n', 'asdgfasdfcg qqt w qw55 w45y62qw45yw45y w\\n', 'aertt q235 125y6 wrth s\\n', ' aret aerg sadfgh sxdth w5y w46uywsrth lsje toq3t hauyhrt iahe;rgjk ha;rt \\n', 'ar\\n', '\\n', 'ar auer a[rhr tahfjkfga\\n', 'r\\n', 'g\\n', 'a rg izdf;gh;a rr4t y q9 h']\n"
     ]
    }
   ],
   "source": [
    "file = open(\"filename.txt\",\"r\")\n",
    "print(file.readlines())\n",
    "file.close()"
   ]
  },
  {
   "cell_type": "code",
   "execution_count": 89,
   "metadata": {},
   "outputs": [
    {
     "name": "stdout",
     "output_type": "stream",
     "text": [
      "['LSdklfgajlerkljylq243u56028096uyerjgkasndlkfg\\n', 'afdgjkhajksrht 18756qjrlga\\n', 'asdgfasdfcg qqt w qw55 w45y62qw45yw45y w\\n', 'aertt q235 125y6 wrth s\\n', ' aret aerg sadfgh sxdth w5y w46uywsrth lsje toq3t hauyhrt iahe;rgjk ha;rt \\n', 'ar\\n', '\\n', 'ar auer a[rhr tahfjkfga\\n', 'r\\n', 'g\\n', 'a rg izdf;gh;a rr4t y q9 h']\n"
     ]
    }
   ],
   "source": [
    "file = open(\"filename.txt\",\"r\")\n",
    "print(file.readlines())\n",
    "file.close()"
   ]
  },
  {
   "cell_type": "code",
   "execution_count": 90,
   "metadata": {},
   "outputs": [
    {
     "name": "stdout",
     "output_type": "stream",
     "text": [
      "['LSdklfgajlerkljylq243u56028096uyerjgkasndlkfg\\n', 'afdgjkhajksrht 18756qjrlga\\n', 'asdgfasdfcg qqt w qw55 w45y62qw45yw45y w\\n', 'aertt q235 125y6 wrth s\\n', ' aret aerg sadfgh sxdth w5y w46uywsrth lsje toq3t hauyhrt iahe;rgjk ha;rt \\n', 'ar\\n', '\\n', 'ar auer a[rhr tahfjkfga\\n', 'r\\n', 'g\\n', 'a rg izdf;gh;a rr4t y q9 h']\n"
     ]
    }
   ],
   "source": [
    "file= open(\"filename.txt\",\"r\")\n",
    "print(file.readlines())\n",
    "file.close()"
   ]
  },
  {
   "cell_type": "code",
   "execution_count": 93,
   "metadata": {},
   "outputs": [
    {
     "name": "stdout",
     "output_type": "stream",
     "text": [
      "LSdklfgajlerkljylq243u56028096uyerjgkasndlkfg\n",
      "\n"
     ]
    }
   ],
   "source": [
    "file = open(\"filename.txt\",\"r\")\n",
    "print(file.readline())\n",
    "file.close()"
   ]
  },
  {
   "cell_type": "code",
   "execution_count": 95,
   "metadata": {},
   "outputs": [
    {
     "name": "stdout",
     "output_type": "stream",
     "text": [
      "['LSdklfgajlerkljylq243u56028096uyerjgkasndlkfg\\n', 'afdgjkhajksrht 18756qjrlga\\n', 'asdgfasdfcg qqt w qw55 w45y62qw45yw45y w\\n', 'aertt q235 125y6 wrth s\\n', ' aret aerg sadfgh sxdth w5y w46uywsrth lsje toq3t hauyhrt iahe;rgjk ha;rt \\n', 'ar\\n', '\\n', 'ar auer a[rhr tahfjkfga\\n', 'r\\n', 'g\\n', 'a rg izdf;gh;a rr4t y q9 h']\n"
     ]
    }
   ],
   "source": [
    "file = open(\"filename.txt\",\"r\")\n",
    "print(file.readlines())\n",
    "file.close()"
   ]
  },
  {
   "cell_type": "code",
   "execution_count": 96,
   "metadata": {},
   "outputs": [
    {
     "name": "stdout",
     "output_type": "stream",
     "text": [
      "LSdklfgajlerkljylq243u56028096uyerjgkasndlkfg\n",
      "\n"
     ]
    }
   ],
   "source": [
    "file = open(\"filename.txt\",\"r\")\n",
    "print(file.readline())\n",
    "file.close()"
   ]
  },
  {
   "cell_type": "code",
   "execution_count": 97,
   "metadata": {},
   "outputs": [
    {
     "name": "stdout",
     "output_type": "stream",
     "text": [
      "['LSdklfgajlerkljylq243u56028096uyerjgkasndlkfg\\n', 'afdgjkhajksrht 18756qjrlga\\n', 'asdgfasdfcg qqt w qw55 w45y62qw45yw45y w\\n', 'aertt q235 125y6 wrth s\\n', ' aret aerg sadfgh sxdth w5y w46uywsrth lsje toq3t hauyhrt iahe;rgjk ha;rt \\n', 'ar\\n', '\\n', 'ar auer a[rhr tahfjkfga\\n', 'r\\n', 'g\\n', 'a rg izdf;gh;a rr4t y q9 h']\n"
     ]
    }
   ],
   "source": [
    "file = open(\"filename.txt\",\"r\")\n",
    "print(file.readlines())\n",
    "file.close()"
   ]
  },
  {
   "cell_type": "code",
   "execution_count": 98,
   "metadata": {},
   "outputs": [
    {
     "name": "stdout",
     "output_type": "stream",
     "text": [
      "LSdklfgajlerkljylq243u56028096uyerjgkasndlkfg\n",
      "\n"
     ]
    }
   ],
   "source": [
    "file = open(\"filename.txt\",\"r\")\n",
    "print(file.readline())\n",
    "file.close()"
   ]
  },
  {
   "cell_type": "code",
   "execution_count": 100,
   "metadata": {},
   "outputs": [
    {
     "name": "stdout",
     "output_type": "stream",
     "text": [
      "['LSdklfgajlerkljylq243u56028096uyerjgkasndlkfg\\n', 'afdgjkhajksrht 18756qjrlga\\n', 'asdgfasdfcg qqt w qw55 w45y62qw45yw45y w\\n', 'aertt q235 125y6 wrth s\\n', ' aret aerg sadfgh sxdth w5y w46uywsrth lsje toq3t hauyhrt iahe;rgjk ha;rt \\n', 'ar\\n', '\\n', 'ar auer a[rhr tahfjkfga\\n', 'r\\n', 'g\\n', 'a rg izdf;gh;a rr4t y q9 h']\n"
     ]
    }
   ],
   "source": [
    "file= open(\"filename.txt\",\"r\")\n",
    "print(file.readlines())\n",
    "file.close()"
   ]
  },
  {
   "cell_type": "code",
   "execution_count": 101,
   "metadata": {},
   "outputs": [
    {
     "name": "stdout",
     "output_type": "stream",
     "text": [
      "LSdklfgajlerkljylq243u56028096uyerjgkasndlkfg\n",
      "\n",
      "afdgjkhajksrht 18756qjrlga\n",
      "\n",
      "asdgfasdfcg qqt w qw55 w45y62qw45yw45y w\n",
      "\n",
      "aertt q235 125y6 wrth s\n",
      "\n",
      " aret aerg sadfgh sxdth w5y w46uywsrth lsje toq3t hauyhrt iahe;rgjk ha;rt \n",
      "\n",
      "ar\n",
      "\n",
      "\n",
      "\n",
      "ar auer a[rhr tahfjkfga\n",
      "\n",
      "r\n",
      "\n",
      "g\n",
      "\n",
      "a rg izdf;gh;a rr4t y q9 h\n"
     ]
    }
   ],
   "source": [
    "file = open(\"filename.txt\", \"r\")\n",
    "\n",
    "for line in file:\n",
    "    print(line)\n",
    "\n",
    "file.close() "
   ]
  },
  {
   "cell_type": "code",
   "execution_count": 102,
   "metadata": {},
   "outputs": [
    {
     "name": "stdout",
     "output_type": "stream",
     "text": [
      "LSdklfgajlerkljylq243u56028096uyerjgkasndlkfg\n",
      "\n",
      "afdgjkhajksrht 18756qjrlga\n",
      "\n",
      "asdgfasdfcg qqt w qw55 w45y62qw45yw45y w\n",
      "\n",
      "aertt q235 125y6 wrth s\n",
      "\n",
      " aret aerg sadfgh sxdth w5y w46uywsrth lsje toq3t hauyhrt iahe;rgjk ha;rt \n",
      "\n",
      "ar\n",
      "\n",
      "\n",
      "\n",
      "ar auer a[rhr tahfjkfga\n",
      "\n",
      "r\n",
      "\n",
      "g\n",
      "\n",
      "a rg izdf;gh;a rr4t y q9 h\n"
     ]
    }
   ],
   "source": [
    "file = open(\"filename.txt\",\"r\")\n",
    "for line in file:\n",
    "    print(line)\n",
    "file.close()"
   ]
  },
  {
   "cell_type": "code",
   "execution_count": 103,
   "metadata": {},
   "outputs": [
    {
     "name": "stdout",
     "output_type": "stream",
     "text": [
      "LSdklfgajlerkljylq243u56028096uyerjgkasndlkfg\n",
      "\n",
      "afdgjkhajksrht 18756qjrlga\n",
      "\n",
      "asdgfasdfcg qqt w qw55 w45y62qw45yw45y w\n",
      "\n",
      "aertt q235 125y6 wrth s\n",
      "\n",
      " aret aerg sadfgh sxdth w5y w46uywsrth lsje toq3t hauyhrt iahe;rgjk ha;rt \n",
      "\n",
      "ar\n",
      "\n",
      "\n",
      "\n",
      "ar auer a[rhr tahfjkfga\n",
      "\n",
      "r\n",
      "\n",
      "g\n",
      "\n",
      "a rg izdf;gh;a rr4t y q9 h\n"
     ]
    }
   ],
   "source": [
    "file = open(\"filename.txt\",\"r\")\n",
    "for line in file:\n",
    "    print(line)\n",
    "file.close()"
   ]
  },
  {
   "cell_type": "code",
   "execution_count": 104,
   "metadata": {},
   "outputs": [
    {
     "name": "stdout",
     "output_type": "stream",
     "text": [
      "<_io.TextIOWrapper name='filename.txt' mode='r' encoding='cp1251'>\n",
      "<_io.TextIOWrapper name='filename.txt' mode='r' encoding='cp1251'>\n",
      "<_io.TextIOWrapper name='filename.txt' mode='r' encoding='cp1251'>\n",
      "<_io.TextIOWrapper name='filename.txt' mode='r' encoding='cp1251'>\n",
      "<_io.TextIOWrapper name='filename.txt' mode='r' encoding='cp1251'>\n",
      "<_io.TextIOWrapper name='filename.txt' mode='r' encoding='cp1251'>\n",
      "<_io.TextIOWrapper name='filename.txt' mode='r' encoding='cp1251'>\n",
      "<_io.TextIOWrapper name='filename.txt' mode='r' encoding='cp1251'>\n",
      "<_io.TextIOWrapper name='filename.txt' mode='r' encoding='cp1251'>\n",
      "<_io.TextIOWrapper name='filename.txt' mode='r' encoding='cp1251'>\n",
      "<_io.TextIOWrapper name='filename.txt' mode='r' encoding='cp1251'>\n"
     ]
    }
   ],
   "source": [
    "file = open(\"filename.txt\",\"r\")\n",
    "for line in file:\n",
    "    print(file)\n",
    "file.close()"
   ]
  },
  {
   "cell_type": "code",
   "execution_count": 105,
   "metadata": {},
   "outputs": [
    {
     "name": "stdout",
     "output_type": "stream",
     "text": [
      "LSdklfgajlerkljylq243u56028096uyerjgkasndlkfg\n",
      "\n",
      "afdgjkhajksrht 18756qjrlga\n",
      "\n",
      "asdgfasdfcg qqt w qw55 w45y62qw45yw45y w\n",
      "\n",
      "aertt q235 125y6 wrth s\n",
      "\n",
      " aret aerg sadfgh sxdth w5y w46uywsrth lsje toq3t hauyhrt iahe;rgjk ha;rt \n",
      "\n",
      "ar\n",
      "\n",
      "\n",
      "\n",
      "ar auer a[rhr tahfjkfga\n",
      "\n",
      "r\n",
      "\n",
      "g\n",
      "\n",
      "a rg izdf;gh;a rr4t y q9 h\n"
     ]
    }
   ],
   "source": [
    "file = open(\"filename.txt\",\"r\")\n",
    "for line in file:\n",
    "    print(line)\n",
    "file.close()"
   ]
  },
  {
   "cell_type": "code",
   "execution_count": 106,
   "metadata": {},
   "outputs": [
    {
     "name": "stdout",
     "output_type": "stream",
     "text": [
      "LSdklfgajlerkljylq243u56028096uyerjgkasndlkfg\n",
      "\n",
      "afdgjkhajksrht 18756qjrlga\n",
      "\n",
      "asdgfasdfcg qqt w qw55 w45y62qw45yw45y w\n",
      "\n",
      "aertt q235 125y6 wrth s\n",
      "\n",
      " aret aerg sadfgh sxdth w5y w46uywsrth lsje toq3t hauyhrt iahe;rgjk ha;rt \n",
      "\n",
      "ar\n",
      "\n",
      "\n",
      "\n",
      "ar auer a[rhr tahfjkfga\n",
      "\n",
      "r\n",
      "\n",
      "g\n",
      "\n",
      "a rg izdf;gh;a rr4t y q9 h\n"
     ]
    }
   ],
   "source": [
    "file = open(\"filename.txt\",\"r\")\n",
    "for line in file:\n",
    "    print(line)\n",
    "file.close()"
   ]
  },
  {
   "cell_type": "code",
   "execution_count": 107,
   "metadata": {},
   "outputs": [
    {
     "name": "stdout",
     "output_type": "stream",
     "text": [
      "LSdklfgajlerkljylq243u56028096uyerjgkasndlkfg\n",
      "\n",
      "afdgjkhajksrht 18756qjrlga\n",
      "\n",
      "asdgfasdfcg qqt w qw55 w45y62qw45yw45y w\n",
      "\n",
      "aertt q235 125y6 wrth s\n",
      "\n",
      " aret aerg sadfgh sxdth w5y w46uywsrth lsje toq3t hauyhrt iahe;rgjk ha;rt \n",
      "\n",
      "ar\n",
      "\n",
      "\n",
      "\n",
      "ar auer a[rhr tahfjkfga\n",
      "\n",
      "r\n",
      "\n",
      "g\n",
      "\n",
      "a rg izdf;gh;a rr4t y q9 h\n"
     ]
    }
   ],
   "source": [
    "file = open(\"filename.txt\",\"r\")\n",
    "for line in file:\n",
    "    print(line)\n",
    "file.close()"
   ]
  },
  {
   "cell_type": "code",
   "execution_count": 109,
   "metadata": {},
   "outputs": [
    {
     "name": "stdout",
     "output_type": "stream",
     "text": [
      "LSdklfgajlerkljylq243u56028096uyerjgkasndlkfg\n",
      "\n",
      "afdgjkhajksrht 18756qjrlga\n",
      "\n",
      "asdgfasdfcg qqt w qw55 w45y62qw45yw45y w\n",
      "\n",
      "aertt q235 125y6 wrth s\n",
      "\n",
      " aret aerg sadfgh sxdth w5y w46uywsrth lsje toq3t hauyhrt iahe;rgjk ha;rt \n",
      "\n",
      "ar\n",
      "\n",
      "\n",
      "\n",
      "ar auer a[rhr tahfjkfga\n",
      "\n",
      "r\n",
      "\n",
      "g\n",
      "\n",
      "a rg izdf;gh;a rr4t y q9 h\n"
     ]
    }
   ],
   "source": [
    "file = open(\"filename.txt\",\"r\")\n",
    "for line in file:\n",
    "    print(line)\n",
    "file.close()"
   ]
  },
  {
   "cell_type": "code",
   "execution_count": 111,
   "metadata": {},
   "outputs": [
    {
     "name": "stdout",
     "output_type": "stream",
     "text": [
      "LSdklfgajlerkljylq243u56028096uyerjgkasndlkfg\n",
      "\n",
      "afdgjkhajksrht 18756qjrlga\n",
      "\n",
      "asdgfasdfcg qqt w qw55 w45y62qw45yw45y w\n",
      "\n",
      "aertt q235 125y6 wrth s\n",
      "\n",
      " aret aerg sadfgh sxdth w5y w46uywsrth lsje toq3t hauyhrt iahe;rgjk ha;rt \n",
      "\n",
      "ar\n",
      "\n",
      "\n",
      "\n",
      "ar auer a[rhr tahfjkfga\n",
      "\n",
      "r\n",
      "\n",
      "g\n",
      "\n",
      "a rg izdf;gh;a rr4t y q9 h\n"
     ]
    }
   ],
   "source": [
    "file= open(\"filename.txt\",\"r\")\n",
    "for line in file:\n",
    "    print(line)\n",
    "file.close()"
   ]
  },
  {
   "cell_type": "code",
   "execution_count": null,
   "metadata": {
    "collapsed": true
   },
   "outputs": [],
   "source": []
  }
 ],
 "metadata": {
  "kernelspec": {
   "display_name": "Python 3",
   "language": "python",
   "name": "python3"
  },
  "language_info": {
   "codemirror_mode": {
    "name": "ipython",
    "version": 3
   },
   "file_extension": ".py",
   "mimetype": "text/x-python",
   "name": "python",
   "nbconvert_exporter": "python",
   "pygments_lexer": "ipython3",
   "version": "3.6.1"
  }
 },
 "nbformat": 4,
 "nbformat_minor": 2
}
