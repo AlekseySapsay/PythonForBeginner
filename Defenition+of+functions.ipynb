{
 "cells": [
  {
   "cell_type": "code",
   "execution_count": 14,
   "metadata": {},
   "outputs": [
    {
     "name": "stdout",
     "output_type": "stream",
     "text": [
      "spam\n",
      "spam\n",
      "spam\n"
     ]
    }
   ],
   "source": [
    "def my_func():\n",
    "   print(\"spam\")\n",
    "   print(\"spam\")\n",
    "   print(\"spam\")\n",
    "\n",
    "my_func()"
   ]
  },
  {
   "cell_type": "code",
   "execution_count": 15,
   "metadata": {},
   "outputs": [
    {
     "name": "stdout",
     "output_type": "stream",
     "text": [
      "I like to typing\n",
      "I like to typing\n",
      "I like to typing\n"
     ]
    }
   ],
   "source": [
    "def my_func():\n",
    "    print(\"I like to typing\")\n",
    "    print(\"I like to typing\")\n",
    "    print(\"I like to typing\")\n",
    "my_func()"
   ]
  },
  {
   "cell_type": "code",
   "execution_count": 17,
   "metadata": {},
   "outputs": [
    {
     "name": "stdout",
     "output_type": "stream",
     "text": [
      "it is very easy to programming\n",
      "It is very funny\n",
      "I have very motivation to be a progremmer and \n",
      "I will be a Data analyst\n"
     ]
    }
   ],
   "source": [
    "def EasyPeasyFunction():\n",
    "    print(\"it is very easy to programming\")\n",
    "    print(\"It is very funny\")\n",
    "    print(\"I have very motivation to be a progremmer and \")\n",
    "    print(\"I will be a Data analyst\")\n",
    "EasyPeasyFunction()"
   ]
  },
  {
   "cell_type": "code",
   "execution_count": 18,
   "metadata": {
    "collapsed": true
   },
   "outputs": [],
   "source": [
    "def My_function():\n",
    "    print(\"I just have traning to use and define different functions\")"
   ]
  },
  {
   "cell_type": "code",
   "execution_count": 19,
   "metadata": {},
   "outputs": [
    {
     "name": "stdout",
     "output_type": "stream",
     "text": [
      "I just have traning to use and define different functions\n"
     ]
    }
   ],
   "source": [
    "My_function()"
   ]
  },
  {
   "cell_type": "code",
   "execution_count": 22,
   "metadata": {},
   "outputs": [
    {
     "name": "stdout",
     "output_type": "stream",
     "text": [
      "0\n",
      "1\n",
      "2\n",
      "3\n",
      "4\n",
      "5\n",
      "6\n",
      "7\n",
      "8\n",
      "9\n"
     ]
    }
   ],
   "source": [
    "def function():\n",
    "    sum=0\n",
    "    for i in range(10):\n",
    "        sum+=1\n",
    "        print(i)\n",
    "function()"
   ]
  },
  {
   "cell_type": "code",
   "execution_count": 25,
   "metadata": {},
   "outputs": [
    {
     "name": "stdout",
     "output_type": "stream",
     "text": [
      "Main answer on every qustions is 42\n"
     ]
    }
   ],
   "source": [
    "def idealFunction():\n",
    "    print(\"Main answer on every qustions is 42\")\n",
    "idealFunction()"
   ]
  },
  {
   "cell_type": "code",
   "execution_count": 29,
   "metadata": {},
   "outputs": [
    {
     "name": "stdout",
     "output_type": "stream",
     "text": [
      "For the King! and our future\n"
     ]
    }
   ],
   "source": [
    "def WeNeedMoreFunctions():\n",
    "    print(\"For the King! and our future\")\n",
    "WeNeedMoreFunctions()"
   ]
  },
  {
   "cell_type": "code",
   "execution_count": 31,
   "metadata": {},
   "outputs": [
    {
     "name": "stdout",
     "output_type": "stream",
     "text": [
      "Just testing function\n"
     ]
    }
   ],
   "source": [
    "def TestFunction():\n",
    "    print(\"Just testing function\")\n",
    "TestFunction()"
   ]
  },
  {
   "cell_type": "code",
   "execution_count": 32,
   "metadata": {},
   "outputs": [
    {
     "name": "stdout",
     "output_type": "stream",
     "text": [
      "That is enouth, I need more practise in solving tasks\n"
     ]
    }
   ],
   "source": [
    "def NotFirstFunction():\n",
    "    print(\"That is enouth, I need more practise in solving tasks\")\n",
    "NotFirstFunction()\n",
    "    "
   ]
  },
  {
   "cell_type": "code",
   "execution_count": 33,
   "metadata": {},
   "outputs": [
    {
     "name": "stdout",
     "output_type": "stream",
     "text": [
      "spam!\n",
      "eggs!\n",
      "python!\n"
     ]
    }
   ],
   "source": [
    "def print_with_exclamation(word):\n",
    "   print(word + \"!\")\n",
    "    \n",
    "print_with_exclamation(\"spam\")\n",
    "print_with_exclamation(\"eggs\")\n",
    "print_with_exclamation(\"python\")"
   ]
  },
  {
   "cell_type": "code",
   "execution_count": 37,
   "metadata": {},
   "outputs": [
    {
     "name": "stdout",
     "output_type": "stream",
     "text": [
      "hello Alex\n",
      "hello Oleg\n",
      "hello Michail\n",
      "hello Anna\n",
      "hello Sasha\n",
      "hello ksenia\n"
     ]
    }
   ],
   "source": [
    "def hello(name):\n",
    "    print(\"hello \"+ name)\n",
    "\n",
    "hello(\"Alex\")\n",
    "hello(\"Oleg\")\n",
    "hello(\"Michail\")\n",
    "hello(\"Anna\")\n",
    "hello(\"Sasha\")\n",
    "hello(\"ksenia\")"
   ]
  },
  {
   "cell_type": "code",
   "execution_count": 45,
   "metadata": {},
   "outputs": [
    {
     "ename": "TypeError",
     "evalue": "must be str, not int",
     "output_type": "error",
     "traceback": [
      "\u001b[1;31m---------------------------------------------------------------------------\u001b[0m",
      "\u001b[1;31mTypeError\u001b[0m                                 Traceback (most recent call last)",
      "\u001b[1;32m<ipython-input-45-03b9aa41c927>\u001b[0m in \u001b[0;36m<module>\u001b[1;34m()\u001b[0m\n\u001b[0;32m      3\u001b[0m \u001b[1;33m\u001b[0m\u001b[0m\n\u001b[0;32m      4\u001b[0m \u001b[1;32mfor\u001b[0m \u001b[0mnum\u001b[0m \u001b[1;32min\u001b[0m \u001b[0mrange\u001b[0m\u001b[1;33m(\u001b[0m\u001b[1;36m10\u001b[0m\u001b[1;33m)\u001b[0m\u001b[1;33m:\u001b[0m\u001b[1;33m\u001b[0m\u001b[0m\n\u001b[1;32m----> 5\u001b[1;33m     \u001b[0mnumber\u001b[0m\u001b[1;33m(\u001b[0m\u001b[0mnum\u001b[0m\u001b[1;33m)\u001b[0m\u001b[1;33m\u001b[0m\u001b[0m\n\u001b[0m",
      "\u001b[1;32m<ipython-input-45-03b9aa41c927>\u001b[0m in \u001b[0;36mnumber\u001b[1;34m(num)\u001b[0m\n\u001b[0;32m      1\u001b[0m \u001b[1;32mdef\u001b[0m \u001b[0mnumber\u001b[0m\u001b[1;33m(\u001b[0m\u001b[0mnum\u001b[0m\u001b[1;33m)\u001b[0m\u001b[1;33m:\u001b[0m\u001b[1;33m\u001b[0m\u001b[0m\n\u001b[1;32m----> 2\u001b[1;33m     \u001b[0mprint\u001b[0m\u001b[1;33m(\u001b[0m\u001b[1;34m\"1\"\u001b[0m\u001b[1;33m+\u001b[0m\u001b[0mnum\u001b[0m\u001b[1;33m)\u001b[0m\u001b[1;33m\u001b[0m\u001b[0m\n\u001b[0m\u001b[0;32m      3\u001b[0m \u001b[1;33m\u001b[0m\u001b[0m\n\u001b[0;32m      4\u001b[0m \u001b[1;32mfor\u001b[0m \u001b[0mnum\u001b[0m \u001b[1;32min\u001b[0m \u001b[0mrange\u001b[0m\u001b[1;33m(\u001b[0m\u001b[1;36m10\u001b[0m\u001b[1;33m)\u001b[0m\u001b[1;33m:\u001b[0m\u001b[1;33m\u001b[0m\u001b[0m\n\u001b[0;32m      5\u001b[0m     \u001b[0mnumber\u001b[0m\u001b[1;33m(\u001b[0m\u001b[0mnum\u001b[0m\u001b[1;33m)\u001b[0m\u001b[1;33m\u001b[0m\u001b[0m\n",
      "\u001b[1;31mTypeError\u001b[0m: must be str, not int"
     ]
    }
   ],
   "source": [
    "def number(num):\n",
    "    print(\"1\"+num)\n",
    "\n",
    "for num in range(10):\n",
    "    number(num)"
   ]
  },
  {
   "cell_type": "code",
   "execution_count": 44,
   "metadata": {},
   "outputs": [
    {
     "name": "stdout",
     "output_type": "stream",
     "text": [
      "11\n",
      "12\n",
      "13\n",
      "14\n",
      "15\n",
      "16\n",
      "17\n",
      "18\n",
      "19\n",
      "110\n"
     ]
    }
   ],
   "source": [
    "def number(num):\n",
    "    print(\"1\"+num)\n",
    "number(\"1\")\n",
    "number(\"2\")\n",
    "number(\"3\")\n",
    "number(\"4\")\n",
    "number(\"5\")\n",
    "number(\"6\")\n",
    "number(\"7\")\n",
    "number(\"8\")\n",
    "number(\"9\")\n",
    "number(\"10\")"
   ]
  },
  {
   "cell_type": "code",
   "execution_count": 46,
   "metadata": {},
   "outputs": [
    {
     "name": "stdout",
     "output_type": "stream",
     "text": [
      "13\n",
      "13\n"
     ]
    }
   ],
   "source": [
    "def print_sum_twice(x, y):\n",
    "   print(x + y)\n",
    "   print(x + y)\n",
    "\n",
    "print_sum_twice(5, 8)"
   ]
  },
  {
   "cell_type": "code",
   "execution_count": 47,
   "metadata": {},
   "outputs": [
    {
     "name": "stdout",
     "output_type": "stream",
     "text": [
      "1000\n",
      "1000\n",
      "1000\n"
     ]
    }
   ],
   "source": [
    "def print_volume_threes(x,y,z):\n",
    "    print(x*y*z)\n",
    "    print(x*y*z)\n",
    "    print(x*y*z)\n",
    "    \n",
    "print_volume_threes(10,10,10)"
   ]
  },
  {
   "cell_type": "code",
   "execution_count": 49,
   "metadata": {},
   "outputs": [
    {
     "name": "stdout",
     "output_type": "stream",
     "text": [
      "10000\n",
      "10000\n",
      "10000\n",
      "10000\n"
     ]
    }
   ],
   "source": [
    "def print_volume_4D(x,y,z,k):\n",
    "    print(x*y*z*k)\n",
    "    print(x*y*z*k)\n",
    "    print(x*y*z*k)\n",
    "    print(x*y*z*k)\n",
    "print_volume_4D(10,10,10,10)"
   ]
  },
  {
   "cell_type": "code",
   "execution_count": 51,
   "metadata": {},
   "outputs": [
    {
     "name": "stdout",
     "output_type": "stream",
     "text": [
      "600\n"
     ]
    }
   ],
   "source": [
    "def square(x,y):\n",
    "    print(x*y)\n",
    "square(20,30)"
   ]
  },
  {
   "cell_type": "code",
   "execution_count": 57,
   "metadata": {},
   "outputs": [
    {
     "name": "stdout",
     "output_type": "stream",
     "text": [
      "inter now nuch months12\n",
      "rent7500\n",
      "90000\n"
     ]
    }
   ],
   "source": [
    "def rent_pay(m,e):\n",
    "    print(m*e)\n",
    "rent_pay(m=int(input(\"inter now nuch months\")),e=int(input(\"rent\")))"
   ]
  },
  {
   "cell_type": "code",
   "execution_count": 59,
   "metadata": {},
   "outputs": [
    {
     "name": "stdout",
     "output_type": "stream",
     "text": [
      "Enter number of months10\n",
      "pay for months12000\n",
      "120000\n"
     ]
    }
   ],
   "source": [
    "def pay_for_therapy(m,e):\n",
    "    print(m*e)\n",
    "pay_for_therapy(m=int(input(\"Enter number of months\")),e=int(input(\"pay for months\")))"
   ]
  },
  {
   "cell_type": "code",
   "execution_count": 62,
   "metadata": {},
   "outputs": [
    {
     "name": "stdout",
     "output_type": "stream",
     "text": [
      "enter velosity1\n",
      "square of tube1\n",
      "duration1\n",
      "litters1\n"
     ]
    }
   ],
   "source": [
    "def volume_of_water(V,S,T):\n",
    "    print(\"litters\"+str(V*S*T))\n",
    "volume_of_water(V=int(input(\"enter velosity\")),S=int(input(\"square of tube\")),T=int(input(\"duration\")))"
   ]
  },
  {
   "cell_type": "code",
   "execution_count": 63,
   "metadata": {},
   "outputs": [
    {
     "name": "stdout",
     "output_type": "stream",
     "text": [
      "enter the start coordinate1\n",
      "enter start velosity0\n",
      "enter akseleration10\n",
      "enter time of falling1\n",
      "x coordinate is 5.0\n"
     ]
    }
   ],
   "source": [
    "def x(x0,V0,a,t):\n",
    "    print(\"x coordinate is \"+str(x0+V0*t+(a*t^2)*1/2))\n",
    "x(x0=(int(input(\"enter the start coordinate\"))),V0=int(input(\"enter start velosity\")),a=int(input(\"enter akseleration\")), t=int(input(\"enter time of falling\")))"
   ]
  },
  {
   "cell_type": "code",
   "execution_count": 65,
   "metadata": {},
   "outputs": [
    {
     "name": "stdout",
     "output_type": "stream",
     "text": [
      "enter your experiens in years1\n",
      "rate you attraction 1-101\n",
      "rate how effective you can solve the problems from 1 to 10- very effective1\n",
      "your slary will be 1\n"
     ]
    }
   ],
   "source": [
    "def salary(expiriense,attraction,effectivnes):\n",
    "    print(\"your slary will be \" + str(expiriense*attraction*effectivnes))\n",
    "salary(expiriense=int(input(\"enter your experiens in years\")),attraction=int(input(\"rate you attraction 1-10\")),effectivnes=int(input(\"rate how effective you can solve the problems from 1 to 10- very effective\")))\n"
   ]
  },
  {
   "cell_type": "code",
   "execution_count": 67,
   "metadata": {},
   "outputs": [
    {
     "name": "stdout",
     "output_type": "stream",
     "text": [
      "enter any number10\n",
      "somthing random event, but I dont know randomisatin funstions 10\n"
     ]
    }
   ],
   "source": [
    "def randomF(R):\n",
    "    print('somthing random event, but I dont know randomisatin funstions '+str(R))\n",
    "randomF(R=int(input(\"enter any number\")))"
   ]
  },
  {
   "cell_type": "code",
   "execution_count": 69,
   "metadata": {},
   "outputs": [
    {
     "name": "stdout",
     "output_type": "stream",
     "text": [
      "8\n"
     ]
    }
   ],
   "source": [
    "def function(variable):\n",
    "   variable += 1\n",
    "   print(variable)\n",
    "\n",
    "function(7)\n"
   ]
  },
  {
   "cell_type": "code",
   "execution_count": 74,
   "metadata": {},
   "outputs": [
    {
     "name": "stdout",
     "output_type": "stream",
     "text": [
      "100\n",
      "101\n",
      "102\n",
      "103\n",
      "104\n",
      "105\n",
      "106\n",
      "107\n",
      "108\n",
      "109\n"
     ]
    }
   ],
   "source": [
    "def function(variable):\n",
    "    for i in range(variable):\n",
    "        print(str(variable)+str(i))\n",
    "        \n",
    "function(10)"
   ]
  },
  {
   "cell_type": "code",
   "execution_count": 75,
   "metadata": {},
   "outputs": [
    {
     "name": "stdout",
     "output_type": "stream",
     "text": [
      "7\n",
      "8\n"
     ]
    }
   ],
   "source": [
    "def max(x, y):\n",
    "    if x >=y:\n",
    "        return x\n",
    "    else:\n",
    "        return y\n",
    "        \n",
    "print(max(4, 7))\n",
    "z = max(8, 5)\n",
    "print(z)"
   ]
  },
  {
   "cell_type": "code",
   "execution_count": 77,
   "metadata": {},
   "outputs": [
    {
     "name": "stdout",
     "output_type": "stream",
     "text": [
      "1\n",
      "0\n"
     ]
    }
   ],
   "source": [
    "def min(x,y):\n",
    "    if x<=y:\n",
    "        return x\n",
    "    else:\n",
    "        return y\n",
    "\n",
    "print(min(1,10))\n",
    "print(min(20,0))"
   ]
  },
  {
   "cell_type": "code",
   "execution_count": 78,
   "metadata": {},
   "outputs": [
    {
     "name": "stdout",
     "output_type": "stream",
     "text": [
      "20\n"
     ]
    }
   ],
   "source": [
    "def max(x,y):\n",
    "    if x>=y:\n",
    "        return x\n",
    "    else:\n",
    "        return y\n",
    "print(max(10,20))\n"
   ]
  },
  {
   "cell_type": "code",
   "execution_count": 79,
   "metadata": {},
   "outputs": [
    {
     "name": "stdout",
     "output_type": "stream",
     "text": [
      "9\n"
     ]
    }
   ],
   "source": [
    "def add_numbers(x, y):\n",
    "  total = x + y\n",
    "  return total\n",
    "  print(\"This won't be printed\")\n",
    "\n",
    "print(add_numbers(4, 5))"
   ]
  },
  {
   "cell_type": "code",
   "execution_count": 81,
   "metadata": {},
   "outputs": [
    {
     "name": "stdout",
     "output_type": "stream",
     "text": [
      "3\n",
      "20\n"
     ]
    }
   ],
   "source": [
    "def sum_of_numbers(x,y):\n",
    "    sum=x+y\n",
    "    return sum\n",
    "    print('that will never happend')\n",
    "print(sum_of_numbers(1,2))\n",
    "print(sum_of_numbers(10,10))"
   ]
  },
  {
   "cell_type": "code",
   "execution_count": 82,
   "metadata": {},
   "outputs": [
    {
     "name": "stdout",
     "output_type": "stream",
     "text": [
      "1000\n"
     ]
    }
   ],
   "source": [
    "def multiplication(x,y,z):\n",
    "    result=x*y*z\n",
    "    return result\n",
    "    print(\"You will never see it\")\n",
    "print(multiplication(10,10,10))"
   ]
  },
  {
   "cell_type": "code",
   "execution_count": 83,
   "metadata": {},
   "outputs": [
    {
     "name": "stdout",
     "output_type": "stream",
     "text": [
      "28\n"
     ]
    }
   ],
   "source": [
    "def multiply(x, y):\n",
    "   return x * y\n",
    "\n",
    "a = 4\n",
    "b = 7\n",
    "operation = multiply\n",
    "print(operation(a, b))"
   ]
  },
  {
   "cell_type": "code",
   "execution_count": 84,
   "metadata": {},
   "outputs": [
    {
     "name": "stdout",
     "output_type": "stream",
     "text": [
      "28\n"
     ]
    }
   ],
   "source": [
    "def multiply(x, y):\n",
    "   return x * y\n",
    "\n",
    "a = 4\n",
    "b = 7\n",
    "operation = multiply\n",
    "print(operation(a, b))"
   ]
  },
  {
   "cell_type": "code",
   "execution_count": 85,
   "metadata": {},
   "outputs": [
    {
     "name": "stdout",
     "output_type": "stream",
     "text": [
      "30\n"
     ]
    }
   ],
   "source": [
    "def add(x, y):\n",
    "  return x + y\n",
    "\n",
    "def do_twice(func, x, y):\n",
    "  return func(func(x, y), func(x, y))\n",
    "\n",
    "a = 5\n",
    "b = 10\n",
    "\n",
    "print(do_twice(add, a, b))"
   ]
  },
  {
   "cell_type": "code",
   "execution_count": null,
   "metadata": {
    "collapsed": true
   },
   "outputs": [],
   "source": []
  }
 ],
 "metadata": {
  "kernelspec": {
   "display_name": "Python 3",
   "language": "python",
   "name": "python3"
  },
  "language_info": {
   "codemirror_mode": {
    "name": "ipython",
    "version": 3
   },
   "file_extension": ".py",
   "mimetype": "text/x-python",
   "name": "python",
   "nbconvert_exporter": "python",
   "pygments_lexer": "ipython3",
   "version": "3.6.1"
  }
 },
 "nbformat": 4,
 "nbformat_minor": 2
}
