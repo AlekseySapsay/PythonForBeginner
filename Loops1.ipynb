{
 "cells": [
  {
   "cell_type": "code",
   "execution_count": 3,
   "metadata": {},
   "outputs": [
    {
     "name": "stdout",
     "output_type": "stream",
     "text": [
      "hello!\n",
      "world!\n",
      "spam!\n",
      "eggs!\n"
     ]
    }
   ],
   "source": [
    "words = [\"hello\", \"world\", \"spam\", \"eggs\"]\n",
    "counter = 0\n",
    "max_index = len(words)\n",
    "\n",
    "while counter < max_index:\n",
    "   word = words[counter]\n",
    "   print(word + \"!\")\n",
    "   counter = counter + 1"
   ]
  },
  {
   "cell_type": "code",
   "execution_count": 12,
   "metadata": {},
   "outputs": [
    {
     "name": "stdout",
     "output_type": "stream",
     "text": [
      "hellooooo  !Alex\n",
      "hellooooo  !Inna\n",
      "hellooooo  !Genia\n",
      "hellooooo  !Iren\n",
      "hellooooo  !Katia\n"
     ]
    }
   ],
   "source": [
    "words=[\"Alex\",\"Inna\",\"Genia\",\"Iren\",\"Katia\"]\n",
    "counter=0\n",
    "max_index= len(words)-1\n",
    "\n",
    "while counter<=max_index:\n",
    "    word = words[counter]\n",
    "    print(\"hellooooo  \"+ \"!\"+ word)\n",
    "    counter+=1"
   ]
  },
  {
   "cell_type": "code",
   "execution_count": 16,
   "metadata": {},
   "outputs": [
    {
     "name": "stdout",
     "output_type": "stream",
     "text": [
      "How mach is that?  one\n",
      "How mach is that?  two\n",
      "How mach is that?  three\n",
      "How mach is that?  four\n"
     ]
    }
   ],
   "source": [
    "words=[\"one\",'two','three','four']\n",
    "counter=0\n",
    "max_index=len(words)-1\n",
    "\n",
    "while counter<=max_index:\n",
    "    word=words[counter]\n",
    "    print(\"How mach is that?  \"+ word)\n",
    "    counter+=1"
   ]
  },
  {
   "cell_type": "code",
   "execution_count": 19,
   "metadata": {},
   "outputs": [
    {
     "name": "stdout",
     "output_type": "stream",
     "text": [
      "один вышел зайчик погулять\n",
      "два вышел зайчик погулять\n",
      "три вышел зайчик погулять\n",
      "четыре вышел зайчик погулять\n",
      "пять вышел зайчик погулять\n"
     ]
    }
   ],
   "source": [
    "words=[\"один\",\"два\",\"три\",\"четыре\",\"пять\"]\n",
    "counter= 0\n",
    "max_index=len(words)-1\n",
    "\n",
    "while counter<=max_index:\n",
    "    word=words[counter]\n",
    "    print(word+\" вышел зайчик погулять\")\n",
    "    counter+=1"
   ]
  },
  {
   "cell_type": "code",
   "execution_count": 20,
   "metadata": {},
   "outputs": [
    {
     "name": "stdout",
     "output_type": "stream",
     "text": [
      "hello!\n",
      "world!\n",
      "spam!\n",
      "eggs!\n"
     ]
    }
   ],
   "source": [
    "words = [\"hello\", \"world\", \"spam\", \"eggs\"]\n",
    "for word in words:\n",
    "  print(word + \"!\")"
   ]
  },
  {
   "cell_type": "code",
   "execution_count": 21,
   "metadata": {},
   "outputs": [
    {
     "name": "stdout",
     "output_type": "stream",
     "text": [
      "hellohello!\n",
      "worldworld!\n",
      "spamspam!\n",
      "eggseggs!\n"
     ]
    }
   ],
   "source": [
    "words = [\"hello\", \"world\", \"spam\", \"eggs\"]\n",
    "for word in words:\n",
    "    print(word*2 +\"!\")"
   ]
  },
  {
   "cell_type": "code",
   "execution_count": 23,
   "metadata": {},
   "outputs": [
    {
     "name": "stdout",
     "output_type": "stream",
     "text": [
      "hellohellohellohellohello!!!!!\n",
      "worldworldworldworldworld!!!!!\n",
      "spamspamspamspam!!!!\n",
      "eggseggseggseggs!!!!\n"
     ]
    }
   ],
   "source": [
    "words = [\"hello\", \"world\", \"spam\", \"eggs\"]\n",
    "for word in words:\n",
    "    print(word*len(word)+ \"!\"*len(word))"
   ]
  },
  {
   "cell_type": "code",
   "execution_count": 28,
   "metadata": {},
   "outputs": [
    {
     "name": "stdout",
     "output_type": "stream",
     "text": [
      "[0]\n",
      "[0, 1]\n",
      "[0, 1, 2]\n",
      "[0, 1, 2, 3]\n",
      "[0, 1, 2, 3, 4]\n",
      "[0, 1, 2, 3, 4, 5]\n",
      "[0, 1, 2, 3, 4, 5, 6]\n",
      "[0, 1, 2, 3, 4, 5, 6, 7]\n",
      "[0, 1, 2, 3, 4, 5, 6, 7, 8]\n",
      "[0, 1, 2, 3, 4, 5, 6, 7, 8, 9]\n",
      "[0, 1, 2, 3, 4, 5, 6, 7, 8, 9, 10]\n",
      "[0, 1, 2, 3, 4, 5, 6, 7, 8, 9, 10, 11]\n",
      "[0, 1, 2, 3, 4, 5, 6, 7, 8, 9, 10, 11, 12]\n",
      "[0, 1, 2, 3, 4, 5, 6, 7, 8, 9, 10, 11, 12, 13]\n",
      "[0, 1, 2, 3, 4, 5, 6, 7, 8, 9, 10, 11, 12, 13, 14]\n",
      "[0, 1, 2, 3, 4, 5, 6, 7, 8, 9, 10, 11, 12, 13, 14, 15]\n",
      "[0, 1, 2, 3, 4, 5, 6, 7, 8, 9, 10, 11, 12, 13, 14, 15, 16]\n",
      "[0, 1, 2, 3, 4, 5, 6, 7, 8, 9, 10, 11, 12, 13, 14, 15, 16, 17]\n",
      "[0, 1, 2, 3, 4, 5, 6, 7, 8, 9, 10, 11, 12, 13, 14, 15, 16, 17, 18]\n",
      "[0, 1, 2, 3, 4, 5, 6, 7, 8, 9, 10, 11, 12, 13, 14, 15, 16, 17, 18, 19]\n",
      "0\n",
      "1\n",
      "2\n",
      "3\n",
      "4\n",
      "5\n",
      "6\n",
      "7\n",
      "8\n",
      "9\n",
      "10\n",
      "11\n",
      "12\n",
      "13\n",
      "14\n",
      "15\n",
      "16\n",
      "17\n",
      "18\n",
      "19\n",
      "0\n",
      "1\n",
      "2\n",
      "3\n",
      "4\n",
      "5\n",
      "6\n",
      "7\n",
      "8\n",
      "9\n",
      "10\n",
      "11\n",
      "12\n",
      "13\n",
      "14\n",
      "15\n",
      "16\n",
      "17\n",
      "18\n",
      "19\n",
      "[0, 1, 2, 3, 4, 5, 6, 7, 8, 9, 10, 11, 12, 13, 14, 15, 16, 17, 18, 19]\n",
      "[0, 1, 2, 3, 4, 5, 6, 7, 8, 9, 10, 11, 12, 13, 14, 15, 16, 17, 18, 19]\n",
      "[0, 1, 2, 3, 4, 5, 6, 7, 8, 9, 10, 11, 12, 13, 14, 15, 16, 17, 18, 19]\n",
      "[0, 1, 2, 3, 4, 5, 6, 7, 8, 9, 10, 11, 12, 13, 14, 15, 16, 17, 18, 19]\n",
      "[0, 1, 2, 3, 4, 5, 6, 7, 8, 9, 10, 11, 12, 13, 14, 15, 16, 17, 18, 19]\n",
      "[0, 1, 2, 3, 4, 5, 6, 7, 8, 9, 10, 11, 12, 13, 14, 15, 16, 17, 18, 19]\n",
      "[0, 1, 2, 3, 4, 5, 6, 7, 8, 9, 10, 11, 12, 13, 14, 15, 16, 17, 18, 19]\n",
      "[0, 1, 2, 3, 4, 5, 6, 7, 8, 9, 10, 11, 12, 13, 14, 15, 16, 17, 18, 19]\n",
      "[0, 1, 2, 3, 4, 5, 6, 7, 8, 9, 10, 11, 12, 13, 14, 15, 16, 17, 18, 19]\n",
      "[0, 1, 2, 3, 4, 5, 6, 7, 8, 9, 10, 11, 12, 13, 14, 15, 16, 17, 18, 19]\n",
      "[0, 1, 2, 3, 4, 5, 6, 7, 8, 9, 10, 11, 12, 13, 14, 15, 16, 17, 18, 19]\n",
      "[0, 1, 2, 3, 4, 5, 6, 7, 8, 9, 10, 11, 12, 13, 14, 15, 16, 17, 18, 19]\n",
      "[0, 1, 2, 3, 4, 5, 6, 7, 8, 9, 10, 11, 12, 13, 14, 15, 16, 17, 18, 19]\n",
      "[0, 1, 2, 3, 4, 5, 6, 7, 8, 9, 10, 11, 12, 13, 14, 15, 16, 17, 18, 19]\n",
      "[0, 1, 2, 3, 4, 5, 6, 7, 8, 9, 10, 11, 12, 13, 14, 15, 16, 17, 18, 19]\n",
      "[0, 1, 2, 3, 4, 5, 6, 7, 8, 9, 10, 11, 12, 13, 14, 15, 16, 17, 18, 19]\n",
      "[0, 1, 2, 3, 4, 5, 6, 7, 8, 9, 10, 11, 12, 13, 14, 15, 16, 17, 18, 19]\n",
      "[0, 1, 2, 3, 4, 5, 6, 7, 8, 9, 10, 11, 12, 13, 14, 15, 16, 17, 18, 19]\n",
      "[0, 1, 2, 3, 4, 5, 6, 7, 8, 9, 10, 11, 12, 13, 14, 15, 16, 17, 18, 19]\n",
      "[0, 1, 2, 3, 4, 5, 6, 7, 8, 9, 10, 11, 12, 13, 14, 15, 16, 17, 18, 19]\n"
     ]
    }
   ],
   "source": [
    "words=[]\n",
    "for i in range(20):\n",
    "    words.append(i)\n",
    "    print(words)\n",
    "    \n",
    "for word in words:\n",
    "    print(word)\n",
    "\n",
    "for word in words:\n",
    "    print(word)\n",
    "    word+=1\n",
    "\n",
    "for word in words:\n",
    "    print(words)"
   ]
  },
  {
   "cell_type": "code",
   "execution_count": 29,
   "metadata": {},
   "outputs": [
    {
     "name": "stdout",
     "output_type": "stream",
     "text": [
      "hello!\n",
      "hello!\n",
      "hello!\n",
      "hello!\n",
      "hello!\n"
     ]
    }
   ],
   "source": [
    "for i in range(5):\n",
    "  print(\"hello!\")"
   ]
  },
  {
   "cell_type": "code",
   "execution_count": 31,
   "metadata": {},
   "outputs": [
    {
     "name": "stdout",
     "output_type": "stream",
     "text": [
      "I am a data analist\n",
      "I am a data analist\n",
      "I am a data analist\n",
      "I am a data analist\n",
      "I am a data analist\n",
      "I am a data analist\n",
      "I am a data analist\n",
      "I am a data analist\n",
      "I am a data analist\n",
      "I am a data analist\n"
     ]
    }
   ],
   "source": [
    "for i in range(10):\n",
    "    print(\"I am a data analist\")"
   ]
  },
  {
   "cell_type": "code",
   "execution_count": 32,
   "metadata": {},
   "outputs": [
    {
     "name": "stdout",
     "output_type": "stream",
     "text": [
      "I study python programming\n",
      "I study python programming\n",
      "I study python programming\n",
      "I study python programming\n",
      "I study python programming\n",
      "I study python programming\n",
      "I study python programming\n",
      "I study python programming\n",
      "I study python programming\n",
      "I study python programming\n"
     ]
    }
   ],
   "source": [
    "for i in range(10):\n",
    "    print(\"I study python programming\")"
   ]
  },
  {
   "cell_type": "code",
   "execution_count": 33,
   "metadata": {},
   "outputs": [
    {
     "name": "stdout",
     "output_type": "stream",
     "text": [
      "I woold like to be very good in programming\n",
      "I woold like to be very good in programming\n",
      "I woold like to be very good in programming\n",
      "I woold like to be very good in programming\n",
      "I woold like to be very good in programming\n",
      "I woold like to be very good in programming\n",
      "I woold like to be very good in programming\n",
      "I woold like to be very good in programming\n",
      "I woold like to be very good in programming\n",
      "I woold like to be very good in programming\n"
     ]
    }
   ],
   "source": [
    "for i in range(10):\n",
    "    print(\"I woold like to be very good in programming\")"
   ]
  },
  {
   "cell_type": "code",
   "execution_count": 34,
   "metadata": {},
   "outputs": [
    {
     "name": "stdout",
     "output_type": "stream",
     "text": [
      "I wish to have fun with data analisis\n",
      "I wish to have fun with data analisis\n",
      "I wish to have fun with data analisis\n",
      "I wish to have fun with data analisis\n",
      "I wish to have fun with data analisis\n",
      "I wish to have fun with data analisis\n",
      "I wish to have fun with data analisis\n",
      "I wish to have fun with data analisis\n",
      "I wish to have fun with data analisis\n",
      "I wish to have fun with data analisis\n"
     ]
    }
   ],
   "source": [
    "for i in range(10):\n",
    "    print(\"I wish to have fun with data analisis\")"
   ]
  },
  {
   "cell_type": "code",
   "execution_count": 36,
   "metadata": {},
   "outputs": [
    {
     "name": "stdout",
     "output_type": "stream",
     "text": [
      "I spend 8 hours per day to practising in programming\n",
      "I spend 8 hours per day to practising in programming\n",
      "I spend 8 hours per day to practising in programming\n",
      "I spend 8 hours per day to practising in programming\n",
      "I spend 8 hours per day to practising in programming\n",
      "I spend 8 hours per day to practising in programming\n",
      "I spend 8 hours per day to practising in programming\n",
      "I spend 8 hours per day to practising in programming\n",
      "I spend 8 hours per day to practising in programming\n",
      "I spend 8 hours per day to practising in programming\n"
     ]
    }
   ],
   "source": [
    "for i in range(10):\n",
    "    print(\"I spend 8 hours per day to practising in programming\")"
   ]
  },
  {
   "cell_type": "code",
   "execution_count": 37,
   "metadata": {},
   "outputs": [
    {
     "name": "stdout",
     "output_type": "stream",
     "text": [
      " and today, I would like to play in CodeCombat\n",
      " and today, I would like to play in CodeCombat\n",
      " and today, I would like to play in CodeCombat\n",
      " and today, I would like to play in CodeCombat\n",
      " and today, I would like to play in CodeCombat\n",
      " and today, I would like to play in CodeCombat\n",
      " and today, I would like to play in CodeCombat\n",
      " and today, I would like to play in CodeCombat\n",
      " and today, I would like to play in CodeCombat\n",
      " and today, I would like to play in CodeCombat\n"
     ]
    }
   ],
   "source": [
    "for i in range(10):\n",
    "    print(\" and today, I would like to play in CodeCombat\")"
   ]
  },
  {
   "cell_type": "code",
   "execution_count": 38,
   "metadata": {},
   "outputs": [
    {
     "name": "stdout",
     "output_type": "stream",
     "text": [
      "but I need to pass more steps on slolearn\n",
      "but I need to pass more steps on slolearn\n",
      "but I need to pass more steps on slolearn\n",
      "but I need to pass more steps on slolearn\n",
      "but I need to pass more steps on slolearn\n",
      "but I need to pass more steps on slolearn\n",
      "but I need to pass more steps on slolearn\n",
      "but I need to pass more steps on slolearn\n",
      "but I need to pass more steps on slolearn\n",
      "but I need to pass more steps on slolearn\n"
     ]
    }
   ],
   "source": [
    "for i in range(10):\n",
    "    print(\"but I need to pass more steps on slolearn\")"
   ]
  },
  {
   "cell_type": "code",
   "execution_count": 39,
   "metadata": {},
   "outputs": [
    {
     "name": "stdout",
     "output_type": "stream",
     "text": [
      "And it is very very cool site, but not enouth tasks with solution for practise\n",
      "And it is very very cool site, but not enouth tasks with solution for practise\n",
      "And it is very very cool site, but not enouth tasks with solution for practise\n",
      "And it is very very cool site, but not enouth tasks with solution for practise\n",
      "And it is very very cool site, but not enouth tasks with solution for practise\n",
      "And it is very very cool site, but not enouth tasks with solution for practise\n",
      "And it is very very cool site, but not enouth tasks with solution for practise\n",
      "And it is very very cool site, but not enouth tasks with solution for practise\n",
      "And it is very very cool site, but not enouth tasks with solution for practise\n",
      "And it is very very cool site, but not enouth tasks with solution for practise\n"
     ]
    }
   ],
   "source": [
    "for i in range(10):\n",
    "    print(\"And it is very very cool site, but not enouth tasks with solution for practise\")\n"
   ]
  },
  {
   "cell_type": "code",
   "execution_count": 40,
   "metadata": {},
   "outputs": [
    {
     "name": "stdout",
     "output_type": "stream",
     "text": [
      "I need to imagine my ideas and tasks to have practise\n",
      "I need to imagine my ideas and tasks to have practise\n",
      "I need to imagine my ideas and tasks to have practise\n",
      "I need to imagine my ideas and tasks to have practise\n",
      "I need to imagine my ideas and tasks to have practise\n"
     ]
    }
   ],
   "source": [
    "for i in range(5):\n",
    "    print(\"I need to imagine my ideas and tasks to have practise\")"
   ]
  },
  {
   "cell_type": "code",
   "execution_count": 41,
   "metadata": {},
   "outputs": [
    {
     "name": "stdout",
     "output_type": "stream",
     "text": [
      "Very good job! Keep going! You are so cool and clever!\n",
      "Very good job! Keep going! You are so cool and clever!\n",
      "Very good job! Keep going! You are so cool and clever!\n",
      "Very good job! Keep going! You are so cool and clever!\n",
      "Very good job! Keep going! You are so cool and clever!\n",
      "Very good job! Keep going! You are so cool and clever!\n",
      "Very good job! Keep going! You are so cool and clever!\n",
      "Very good job! Keep going! You are so cool and clever!\n",
      "Very good job! Keep going! You are so cool and clever!\n",
      "Very good job! Keep going! You are so cool and clever!\n"
     ]
    }
   ],
   "source": [
    "for i in range(10):\n",
    "    print(\"Very good job! Keep going! You are so cool and clever!\")"
   ]
  },
  {
   "cell_type": "code",
   "execution_count": null,
   "metadata": {
    "collapsed": true
   },
   "outputs": [],
   "source": [
    "while True:\n",
    "   print(\"Options:\")\n",
    "   print(\"Enter 'add' to add two numbers\")\n",
    "   print(\"Enter 'subtract' to subtract two numbers\")\n",
    "   print(\"Enter 'multiply' to multiply two numbers\")\n",
    "   print(\"Enter 'divide' to divide two numbers\")\n",
    "   print(\"Enter 'quit' to end the program\")\n",
    "   user_input = input(\": \")\n",
    "\n",
    "    if user_input == \"quit\":\n",
    "        break\n",
    "   elif user_input == \"add\":\n",
    "        num1 = float(input(\"Enter a number: \"))\n",
    "        num2 = float(input(\"Enter another number: \"))\n",
    "        result = str(num1 + num2)\n",
    "        print(\"The answer is \" + result)\n",
    "        result=0\n",
    "        \n",
    "   elif user_input == \"subtract\":\n",
    "        num1= float(input(\"Enter a number\"))\n",
    "        num2= float(input(\"Enter another number\"))\n",
    "        resutl=str(num1-num2)\n",
    "        print(\"The answer is\"+ result)\n",
    "      \n",
    "   elif user_input == \"multiply\":\n",
    "        num1=float(input(\"Enter a number\"))\n",
    "        num2= float(input(\"Enter another number\"))\n",
    "        result=str(num1*num2)\n",
    "        print(\"The answer is \"+result)\n",
    "        \n",
    "   elif user_input == \"divide\":\n",
    "        num1=float(input(\"Enter a number\"))\n",
    "        num2=float(input(\"Enter another number\"))\n",
    "        result=str(num1/num2)\n",
    "        print(\"The answer is\"+ result)\n",
    "   else:\n",
    "      print(\"Unknown input\")"
   ]
  },
  {
   "cell_type": "code",
   "execution_count": null,
   "metadata": {
    "collapsed": true
   },
   "outputs": [],
   "source": []
  }
 ],
 "metadata": {
  "kernelspec": {
   "display_name": "Python 3",
   "language": "python",
   "name": "python3"
  },
  "language_info": {
   "codemirror_mode": {
    "name": "ipython",
    "version": 3
   },
   "file_extension": ".py",
   "mimetype": "text/x-python",
   "name": "python",
   "nbconvert_exporter": "python",
   "pygments_lexer": "ipython3",
   "version": "3.6.1"
  }
 },
 "nbformat": 4,
 "nbformat_minor": 2
}
