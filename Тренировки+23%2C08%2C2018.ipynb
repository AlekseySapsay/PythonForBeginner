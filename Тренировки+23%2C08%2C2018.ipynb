{
 "cells": [
  {
   "cell_type": "code",
   "execution_count": 4,
   "metadata": {},
   "outputs": [],
   "source": [
    "s=\"asd sdf a dsf  r w er w fs df s df s  xc vx cv s df s df  123 1 23 1 23 1 434 24 \"\n",
    "def SpaceCounter(s):\n",
    "    n = 0\n",
    "    for i in range(len(s)):\n",
    "        if s[i] == ' ':\n",
    "            n += 1\n",
    "    return n\n"
   ]
  },
  {
   "cell_type": "code",
   "execution_count": 5,
   "metadata": {
    "collapsed": true
   },
   "outputs": [],
   "source": [
    "def PI():\n",
    "    return 3.14159"
   ]
  },
  {
   "cell_type": "code",
   "execution_count": 7,
   "metadata": {
    "collapsed": true
   },
   "outputs": [],
   "source": [
    "def PI():\n",
    "    return 28"
   ]
  },
  {
   "cell_type": "code",
   "execution_count": 8,
   "metadata": {
    "collapsed": true
   },
   "outputs": [],
   "source": [
    "def prt(msg1, msg2):\n",
    "    print(msg1+msg2)\n",
    "\n",
    "def prtN(N):\n",
    "    if N == 1: return\n",
    "    print(\"N != 1\")"
   ]
  },
  {
   "cell_type": "code",
   "execution_count": 19,
   "metadata": {},
   "outputs": [
    {
     "name": "stdout",
     "output_type": "stream",
     "text": [
      "27\n"
     ]
    }
   ],
   "source": [
    "def SpaceCounter(s):\n",
    "    n = 0\n",
    "    for i in range(len(s)):\n",
    "        if s[i] == ' ':\n",
    "            n += 1\n",
    "    return n\n",
    "\n",
    "s = SpaceCounter(\"asd sdf a dsf r w er w fs df s df s xc vx cv s df s df 123 1 23 1 23 1 434 24\") \n",
    "   \n",
    "print(x) "
   ]
  },
  {
   "cell_type": "code",
   "execution_count": 20,
   "metadata": {},
   "outputs": [
    {
     "ename": "NameError",
     "evalue": "name 'n' is not defined",
     "output_type": "error",
     "traceback": [
      "\u001b[1;31m---------------------------------------------------------------------------\u001b[0m",
      "\u001b[1;31mNameError\u001b[0m                                 Traceback (most recent call last)",
      "\u001b[1;32m<ipython-input-20-392710521a4c>\u001b[0m in \u001b[0;36m<module>\u001b[1;34m()\u001b[0m\n\u001b[0;32m      7\u001b[0m \u001b[1;33m\u001b[0m\u001b[0m\n\u001b[0;32m      8\u001b[0m \u001b[0md\u001b[0m\u001b[1;33m=\u001b[0m\u001b[0msoaceCounter\u001b[0m\u001b[1;33m(\u001b[0m\u001b[1;34m\"asd sdf a dsf r w er w fs \"\u001b[0m\u001b[1;33m)\u001b[0m\u001b[1;33m\u001b[0m\u001b[0m\n\u001b[1;32m----> 9\u001b[1;33m \u001b[0mprint\u001b[0m\u001b[1;33m(\u001b[0m\u001b[0mn\u001b[0m\u001b[1;33m)\u001b[0m\u001b[1;33m\u001b[0m\u001b[0m\n\u001b[0m",
      "\u001b[1;31mNameError\u001b[0m: name 'n' is not defined"
     ]
    }
   ],
   "source": [
    "def soaceCounter(d):\n",
    "    n=0\n",
    "    for e in range(len(d)):\n",
    "        if d[e]==\" \":\n",
    "            n+=1\n",
    "    return n\n",
    "\n",
    "d=soaceCounter(\"asd sdf a dsf r w er w fs \")\n",
    "print(n)"
   ]
  },
  {
   "cell_type": "code",
   "execution_count": 22,
   "metadata": {},
   "outputs": [
    {
     "name": "stdout",
     "output_type": "stream",
     "text": [
      "102\n"
     ]
    }
   ],
   "source": [
    "def SpaceCounter(s):\n",
    "    n = 0\n",
    "    for i in range(len(s)):\n",
    "        if s[i] == ' ':\n",
    "            n += 1\n",
    "    return n\n",
    "\n",
    "x = SpaceCounter(\"1 2 3\") + 100\n",
    "   \n",
    "print(x)    "
   ]
  },
  {
   "cell_type": "code",
   "execution_count": 23,
   "metadata": {},
   "outputs": [
    {
     "name": "stdout",
     "output_type": "stream",
     "text": [
      "somthing interesting\n"
     ]
    }
   ],
   "source": [
    "def printing(res):\n",
    "    print(res)\n",
    "x=printing(\"somthing interesting\")"
   ]
  },
  {
   "cell_type": "code",
   "execution_count": null,
   "metadata": {
    "collapsed": true
   },
   "outputs": [],
   "source": [
    "def SpaceCounter(s):\n",
    "    n = 0\n",
    "    for i in range(len(s)):\n",
    "        if s[i] == ' ':\n",
    "            n += 1\n",
    "    return n\n",
    "\n",
    "x = SpaceCounter(str(input())) + 1\n",
    "   \n",
    "print(x) "
   ]
  },
  {
   "cell_type": "code",
   "execution_count": 25,
   "metadata": {},
   "outputs": [
    {
     "name": "stdout",
     "output_type": "stream",
     "text": [
      "123 123\n",
      "2\n"
     ]
    }
   ],
   "source": [
    "def WordCounter(string):\n",
    "    n=0\n",
    "    for i in range(len(string)):\n",
    "        if string[i] == \" \":\n",
    "            n+=1\n",
    "    return n\n",
    "answer=WordCounter(str(input()))+1\n",
    "print(answer)"
   ]
  },
  {
   "cell_type": "code",
   "execution_count": 34,
   "metadata": {},
   "outputs": [
    {
     "name": "stdout",
     "output_type": "stream",
     "text": [
      "7\n",
      "1\n"
     ]
    }
   ],
   "source": [
    "def word_counter(w):\n",
    "    n=0\n",
    "    for i in range(len(w)):\n",
    "        if w[i]==\" \":\n",
    "            n+=1\n",
    "    return n\n",
    "answer1=word_counter(str(input()))+1\n",
    "print(answer1)"
   ]
  },
  {
   "cell_type": "code",
   "execution_count": null,
   "metadata": {
    "collapsed": true
   },
   "outputs": [],
   "source": [
    "def newfinction(x):\n",
    "    n=0\n",
    "    for k in range(len(x)):\n",
    "        if x[k]==\" \":\n",
    "            n+=1\n",
    "    return n\n",
    "answe=newfinction(str(input()))+1\n",
    "print(answe)"
   ]
  },
  {
   "cell_type": "code",
   "execution_count": null,
   "metadata": {
    "collapsed": true
   },
   "outputs": [],
   "source": []
  }
 ],
 "metadata": {
  "kernelspec": {
   "display_name": "Python 3",
   "language": "python",
   "name": "python3"
  },
  "language_info": {
   "codemirror_mode": {
    "name": "ipython",
    "version": 3
   },
   "file_extension": ".py",
   "mimetype": "text/x-python",
   "name": "python",
   "nbconvert_exporter": "python",
   "pygments_lexer": "ipython3",
   "version": "3.6.6"
  }
 },
 "nbformat": 4,
 "nbformat_minor": 2
}
