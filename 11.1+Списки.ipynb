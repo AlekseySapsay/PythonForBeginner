{
 "cells": [
  {
   "cell_type": "code",
   "execution_count": 2,
   "metadata": {},
   "outputs": [
    {
     "name": "stdout",
     "output_type": "stream",
     "text": [
      "[1]\n",
      "[1, 2]\n",
      "[1, 2, 3]\n",
      "[1, 2, 3, 4]\n",
      "[1, 2, 3, 4, 5]\n",
      "[1, 2, 3, 4, 5, 6]\n",
      "[1, 2, 3, 4, 5, 6, 7]\n",
      "[1, 2, 3, 4, 5, 6, 7, 8]\n",
      "[1, 2, 3, 4, 5, 6, 7, 8, 9]\n",
      "[1, 2, 3, 4, 5, 6, 7, 8, 9, 10]\n"
     ]
    }
   ],
   "source": [
    "x = []\n",
    "for i in range(10):\n",
    "    x.append(i+1)\n",
    "    print(x)"
   ]
  },
  {
   "cell_type": "code",
   "execution_count": 3,
   "metadata": {},
   "outputs": [
    {
     "name": "stdout",
     "output_type": "stream",
     "text": [
      "[2]\n",
      "[2, 3]\n",
      "[2, 3, 4]\n",
      "[2, 3, 4, 5]\n",
      "[2, 3, 4, 5, 6]\n",
      "[2, 3, 4, 5, 6, 7]\n",
      "[2, 3, 4, 5, 6, 7, 8]\n",
      "[2, 3, 4, 5, 6, 7, 8, 9]\n",
      "[2, 3, 4, 5, 6, 7, 8, 9, 10]\n",
      "[2, 3, 4, 5, 6, 7, 8, 9, 10, 11]\n",
      "[2, 3, 4, 5, 6, 7, 8, 9, 10, 11, 12]\n",
      "[2, 3, 4, 5, 6, 7, 8, 9, 10, 11, 12, 13]\n",
      "[2, 3, 4, 5, 6, 7, 8, 9, 10, 11, 12, 13, 14]\n",
      "[2, 3, 4, 5, 6, 7, 8, 9, 10, 11, 12, 13, 14, 15]\n",
      "[2, 3, 4, 5, 6, 7, 8, 9, 10, 11, 12, 13, 14, 15, 16]\n",
      "[2, 3, 4, 5, 6, 7, 8, 9, 10, 11, 12, 13, 14, 15, 16, 17]\n",
      "[2, 3, 4, 5, 6, 7, 8, 9, 10, 11, 12, 13, 14, 15, 16, 17, 18]\n",
      "[2, 3, 4, 5, 6, 7, 8, 9, 10, 11, 12, 13, 14, 15, 16, 17, 18, 19]\n",
      "[2, 3, 4, 5, 6, 7, 8, 9, 10, 11, 12, 13, 14, 15, 16, 17, 18, 19, 20]\n",
      "[2, 3, 4, 5, 6, 7, 8, 9, 10, 11, 12, 13, 14, 15, 16, 17, 18, 19, 20, 21]\n"
     ]
    }
   ],
   "source": [
    "x= []\n",
    "for i in range(20):\n",
    "    x.append(i+2)\n",
    "    print(x)"
   ]
  },
  {
   "cell_type": "code",
   "execution_count": 6,
   "metadata": {},
   "outputs": [
    {
     "name": "stdout",
     "output_type": "stream",
     "text": [
      "[-22]\n",
      "[-22, -21]\n",
      "[-22, -21, -20]\n",
      "[-22, -21, -20, -19]\n",
      "[-22, -21, -20, -19, -18]\n",
      "[-22, -21, -20, -19, -18, -17]\n",
      "[-22, -21, -20, -19, -18, -17, -16]\n",
      "[-22, -21, -20, -19, -18, -17, -16, -15]\n",
      "[-22, -21, -20, -19, -18, -17, -16, -15, -14]\n",
      "[-22, -21, -20, -19, -18, -17, -16, -15, -14, -13]\n",
      "[-22, -21, -20, -19, -18, -17, -16, -15, -14, -13, -12]\n",
      "[-22, -21, -20, -19, -18, -17, -16, -15, -14, -13, -12, -11]\n",
      "[-22, -21, -20, -19, -18, -17, -16, -15, -14, -13, -12, -11, -10]\n",
      "[-22, -21, -20, -19, -18, -17, -16, -15, -14, -13, -12, -11, -10, -9]\n",
      "[-22, -21, -20, -19, -18, -17, -16, -15, -14, -13, -12, -11, -10, -9, -8]\n",
      "[-22, -21, -20, -19, -18, -17, -16, -15, -14, -13, -12, -11, -10, -9, -8, -7]\n",
      "[-22, -21, -20, -19, -18, -17, -16, -15, -14, -13, -12, -11, -10, -9, -8, -7, -6]\n",
      "[-22, -21, -20, -19, -18, -17, -16, -15, -14, -13, -12, -11, -10, -9, -8, -7, -6, -5]\n",
      "[-22, -21, -20, -19, -18, -17, -16, -15, -14, -13, -12, -11, -10, -9, -8, -7, -6, -5, -4]\n",
      "[-22, -21, -20, -19, -18, -17, -16, -15, -14, -13, -12, -11, -10, -9, -8, -7, -6, -5, -4, -3]\n"
     ]
    }
   ],
   "source": [
    "x=[]\n",
    "for i in range(-20,0):\n",
    "    x.append(i-2)\n",
    "    print(x)"
   ]
  },
  {
   "cell_type": "code",
   "execution_count": 7,
   "metadata": {},
   "outputs": [
    {
     "name": "stdout",
     "output_type": "stream",
     "text": [
      "[0]\n",
      "[0, 1]\n",
      "[0, 1, 2]\n",
      "[0, 1, 2, 3]\n",
      "[0, 1, 2, 3, 4]\n",
      "[0, 1, 2, 3, 4, 5]\n",
      "[0, 1, 2, 3, 4, 5, 6]\n",
      "[0, 1, 2, 3, 4, 5, 6, 7]\n",
      "[0, 1, 2, 3, 4, 5, 6, 7, 8]\n",
      "[0, 1, 2, 3, 4, 5, 6, 7, 8, 9]\n"
     ]
    }
   ],
   "source": [
    "x=[]\n",
    "for i in range(0,10):\n",
    "    x.append(i)\n",
    "    print(x)"
   ]
  },
  {
   "cell_type": "code",
   "execution_count": 9,
   "metadata": {},
   "outputs": [
    {
     "name": "stdout",
     "output_type": "stream",
     "text": [
      "[0, 2, 4, 6, 8, 10, 12, 14, 16, 18]\n",
      "[0, 4, 4, 6, 8, 10, 12, 14, 16, 18]\n",
      "[0, 4, 8, 6, 8, 10, 12, 14, 16, 18]\n",
      "[0, 4, 8, 12, 8, 10, 12, 14, 16, 18]\n",
      "[0, 4, 8, 12, 16, 10, 12, 14, 16, 18]\n",
      "[0, 4, 8, 12, 16, 20, 12, 14, 16, 18]\n",
      "[0, 4, 8, 12, 16, 20, 24, 14, 16, 18]\n",
      "[0, 4, 8, 12, 16, 20, 24, 28, 16, 18]\n",
      "[0, 4, 8, 12, 16, 20, 24, 28, 32, 18]\n",
      "[0, 4, 8, 12, 16, 20, 24, 28, 32, 36]\n"
     ]
    }
   ],
   "source": [
    "for i in range(10):\n",
    "    x[i] = x[i] * 2\n",
    "    print(x)"
   ]
  },
  {
   "cell_type": "code",
   "execution_count": 10,
   "metadata": {},
   "outputs": [
    {
     "name": "stdout",
     "output_type": "stream",
     "text": [
      "2\n",
      "3.14\n",
      "a45jkf\n",
      "5000\n"
     ]
    }
   ],
   "source": [
    "x = [2,3.14,'a45jkf',5000]\n",
    "for i in range(4):\n",
    "    print(x[i])\n",
    "    "
   ]
  },
  {
   "cell_type": "code",
   "execution_count": 11,
   "metadata": {},
   "outputs": [
    {
     "name": "stdout",
     "output_type": "stream",
     "text": [
      "1\n",
      "2\n",
      "3\n"
     ]
    }
   ],
   "source": [
    "x=[1,2,3,4,5,56,6]\n",
    "for i in range(3):\n",
    "    print(x[i])"
   ]
  },
  {
   "cell_type": "code",
   "execution_count": 12,
   "metadata": {},
   "outputs": [
    {
     "name": "stdout",
     "output_type": "stream",
     "text": [
      "9\n",
      "8\n",
      "7\n",
      "6\n"
     ]
    }
   ],
   "source": [
    "x=[9,8,7,6,5,4,3,2,1]\n",
    "for y in range(4):\n",
    "    print(x[y])"
   ]
  },
  {
   "cell_type": "code",
   "execution_count": 13,
   "metadata": {},
   "outputs": [
    {
     "name": "stdout",
     "output_type": "stream",
     "text": [
      "1\n",
      "2\n",
      "34\n",
      "4\n",
      "5\n"
     ]
    }
   ],
   "source": [
    "z=[1,2,34,4,5,6,7,7]\n",
    "for k in range(0,5):\n",
    "    print(z[k])"
   ]
  },
  {
   "cell_type": "code",
   "execution_count": 14,
   "metadata": {},
   "outputs": [
    {
     "name": "stdout",
     "output_type": "stream",
     "text": [
      "2\n",
      "5\n",
      "1\n",
      "2\n",
      "5\n",
      "2\n",
      "6\n",
      "2\n",
      "3\n",
      "6\n"
     ]
    }
   ],
   "source": [
    "import random\n",
    "\n",
    "for i in range (10):\n",
    "    print(random.randint(1,6))"
   ]
  },
  {
   "cell_type": "code",
   "execution_count": 15,
   "metadata": {},
   "outputs": [
    {
     "name": "stdout",
     "output_type": "stream",
     "text": [
      "3\n",
      "6\n",
      "2\n",
      "4\n",
      "6\n",
      "1\n",
      "3\n",
      "6\n",
      "3\n",
      "2\n",
      "5\n",
      "3\n",
      "4\n",
      "1\n",
      "4\n",
      "6\n",
      "2\n",
      "4\n",
      "5\n",
      "5\n",
      "3\n",
      "5\n",
      "6\n",
      "5\n",
      "2\n",
      "3\n",
      "5\n",
      "5\n",
      "3\n",
      "2\n",
      "6\n",
      "3\n",
      "6\n",
      "2\n",
      "4\n",
      "4\n",
      "4\n",
      "2\n",
      "1\n",
      "3\n",
      "1\n",
      "5\n",
      "4\n",
      "3\n",
      "2\n",
      "1\n",
      "1\n",
      "2\n",
      "6\n",
      "4\n",
      "1\n",
      "3\n",
      "4\n",
      "6\n",
      "5\n",
      "3\n",
      "5\n",
      "5\n",
      "2\n",
      "3\n",
      "5\n",
      "2\n",
      "4\n",
      "3\n",
      "4\n",
      "3\n",
      "4\n",
      "1\n",
      "5\n",
      "5\n",
      "4\n",
      "5\n",
      "6\n",
      "1\n",
      "1\n",
      "3\n",
      "3\n",
      "4\n",
      "3\n",
      "5\n",
      "5\n",
      "5\n",
      "3\n",
      "6\n",
      "3\n",
      "1\n",
      "3\n",
      "5\n",
      "4\n",
      "3\n",
      "3\n",
      "2\n",
      "4\n",
      "1\n",
      "3\n",
      "1\n",
      "2\n",
      "3\n",
      "2\n",
      "3\n"
     ]
    }
   ],
   "source": [
    "import random\n",
    "\n",
    "for i in range(100):\n",
    "    print(random.randint(1,6))"
   ]
  },
  {
   "cell_type": "code",
   "execution_count": 17,
   "metadata": {},
   "outputs": [
    {
     "name": "stdout",
     "output_type": "stream",
     "text": [
      "0\n",
      "1\n",
      "1\n",
      "1\n",
      "1\n",
      "0\n",
      "0\n",
      "1\n",
      "0\n",
      "1\n"
     ]
    }
   ],
   "source": [
    "import random\n",
    "\n",
    "for i in range(10):\n",
    "    print(random.randint(0,1))"
   ]
  },
  {
   "cell_type": "code",
   "execution_count": 19,
   "metadata": {},
   "outputs": [
    {
     "name": "stdout",
     "output_type": "stream",
     "text": [
      "0\n",
      "2\n",
      "1\n",
      "2\n",
      "0\n",
      "2\n",
      "2\n",
      "1\n",
      "0\n",
      "1\n"
     ]
    }
   ],
   "source": [
    "import random\n",
    "\n",
    "for i in range(10):\n",
    "    print(random.randint(0,2))"
   ]
  },
  {
   "cell_type": "code",
   "execution_count": null,
   "metadata": {
    "collapsed": true
   },
   "outputs": [],
   "source": []
  }
 ],
 "metadata": {
  "kernelspec": {
   "display_name": "Python 3",
   "language": "python",
   "name": "python3"
  },
  "language_info": {
   "codemirror_mode": {
    "name": "ipython",
    "version": 3
   },
   "file_extension": ".py",
   "mimetype": "text/x-python",
   "name": "python",
   "nbconvert_exporter": "python",
   "pygments_lexer": "ipython3",
   "version": "3.6.1"
  }
 },
 "nbformat": 4,
 "nbformat_minor": 2
}
