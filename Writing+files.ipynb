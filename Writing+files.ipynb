{
 "cells": [
  {
   "cell_type": "code",
   "execution_count": 1,
   "metadata": {},
   "outputs": [
    {
     "name": "stdout",
     "output_type": "stream",
     "text": [
      "This has been written to a file\n"
     ]
    }
   ],
   "source": [
    "file = open(\"newfile.txt\", \"w\")\n",
    "file.write(\"This has been written to a file\")\n",
    "file.close()\n",
    "\n",
    "file = open(\"newfile.txt\", \"r\")\n",
    "print(file.read())\n",
    "file.close()"
   ]
  },
  {
   "cell_type": "code",
   "execution_count": 3,
   "metadata": {},
   "outputs": [
    {
     "name": "stdout",
     "output_type": "stream",
     "text": [
      "that will be writen to the new file\n"
     ]
    }
   ],
   "source": [
    "file = open(\"newfile.txt\",\"w\")\n",
    "file.write(\"that will be writen to the new file\")\n",
    "file.close()\n",
    "\n",
    "file = open(\"newfile.txt\",\"r\")\n",
    "print(file.read())\n",
    "file.close()"
   ]
  },
  {
   "cell_type": "code",
   "execution_count": 4,
   "metadata": {},
   "outputs": [
    {
     "name": "stdout",
     "output_type": "stream",
     "text": [
      " and that will be writen to the new file\n"
     ]
    }
   ],
   "source": [
    "file = open(\"newfile.txt\",\"w\")\n",
    "file.write(\" and that will be writen to the new file\")\n",
    "file.close()\n",
    "\n",
    "file= open(\"newfile.txt\",\"r\")\n",
    "print(file.read())\n",
    "file.close()"
   ]
  },
  {
   "cell_type": "code",
   "execution_count": 5,
   "metadata": {},
   "outputs": [
    {
     "name": "stdout",
     "output_type": "stream",
     "text": [
      "New inportant iformation in the file\n"
     ]
    }
   ],
   "source": [
    "file = open(\"newfile.txt\",\"w\")\n",
    "file.write(\"New inportant iformation in the file\")\n",
    "file.close()\n",
    "\n",
    "file= open(\"newfile.txt\",\"r\")\n",
    "print(file.read())\n",
    "file.close()"
   ]
  },
  {
   "cell_type": "code",
   "execution_count": 6,
   "metadata": {},
   "outputs": [
    {
     "name": "stdout",
     "output_type": "stream",
     "text": [
      "test text in new file just for practise\n"
     ]
    }
   ],
   "source": [
    "file= open(\"newfiles.txt\",'w')\n",
    "file.write(\"test text in new file just for practise\")\n",
    "file.close()\n",
    "\n",
    "file= open(\"newfiles.txt\",\"r\")\n",
    "print(file.read())\n",
    "file.close()"
   ]
  },
  {
   "cell_type": "code",
   "execution_count": 7,
   "metadata": {},
   "outputs": [
    {
     "name": "stdout",
     "output_type": "stream",
     "text": [
      "just text information\n"
     ]
    }
   ],
   "source": [
    "file =  open(\"dellit.txt\",\"w\")\n",
    "file.write(\"just text information\")\n",
    "file.close()\n",
    "\n",
    "file= open(\"dellit.txt\",\"r\")\n",
    "print(file.read())\n",
    "file.close()"
   ]
  },
  {
   "cell_type": "code",
   "execution_count": 8,
   "metadata": {},
   "outputs": [
    {
     "name": "stdout",
     "output_type": "stream",
     "text": [
      "just new text for practise to write and read in file\n"
     ]
    }
   ],
   "source": [
    "file = open(\"dellit.txt\",\"w\")\n",
    "file.write(\"just new text for practise to write and read in file\")\n",
    "file.close()\n",
    "\n",
    "file=open(\"dellit.txt\",'r')\n",
    "print(file.read())\n",
    "file.close()"
   ]
  },
  {
   "cell_type": "code",
   "execution_count": 9,
   "metadata": {},
   "outputs": [
    {
     "name": "stdout",
     "output_type": "stream",
     "text": [
      "Do Data csience just for fun and good luck with it!\n"
     ]
    }
   ],
   "source": [
    "file = open(\"DoDsJustForFun.txt\",\"w\")\n",
    "file.write(\"Do Data csience just for fun and good luck with it!\")\n",
    "file.close()\n",
    "\n",
    "file= open(\"DoDsJustForFun.txt\",'r')\n",
    "print(file.read())\n",
    "file.close()"
   ]
  },
  {
   "cell_type": "code",
   "execution_count": 10,
   "metadata": {},
   "outputs": [
    {
     "name": "stdout",
     "output_type": "stream",
     "text": [
      "now I spend a lot of time foe typing and practise in python and today I want to try do samthing\n"
     ]
    }
   ],
   "source": [
    "file=open(\"TodayMyDSFun.txt\",\"w\")\n",
    "file.write(\"now I spend a lot of time foe typing and practise in python and today I want to try do samthing\")\n",
    "file.close()\n",
    "\n",
    "file=open(\"TodayMyDSFun.txt\",\"r\")\n",
    "print(file.read())\n",
    "file.close()"
   ]
  },
  {
   "cell_type": "code",
   "execution_count": 17,
   "metadata": {},
   "outputs": [
    {
     "name": "stdout",
     "output_type": "stream",
     "text": [
      "Reading initial contents\n",
      "\n",
      "Finished\n",
      "Reading new contents\n",
      "Some new text\n",
      "Finished\n"
     ]
    }
   ],
   "source": [
    "file = open(\"newfile.txt\", \"r\")\n",
    "print(\"Reading initial contents\")\n",
    "print(file.read())\n",
    "print(\"Finished\")\n",
    "file.close()\n",
    "\n",
    "file = open(\"newfile.txt\", \"w\")\n",
    "file.write(\"Some new text\")\n",
    "file.close()\n",
    "\n",
    "file = open(\"newfile.txt\", \"r\")\n",
    "print(\"Reading new contents\")\n",
    "print(file.read())\n",
    "print(\"Finished\")\n",
    "file.close()"
   ]
  },
  {
   "cell_type": "code",
   "execution_count": 20,
   "metadata": {},
   "outputs": [
    {
     "name": "stdout",
     "output_type": "stream",
     "text": [
      "Reading initial contents\n",
      "Some new text\n",
      "Finished\n",
      "Reading new contents\n",
      "Some new text\n",
      "Finished\n"
     ]
    }
   ],
   "source": [
    "file = open(\"newfile.txt\", \"r\")\n",
    "print(\"Reading initial contents\")\n",
    "print(file.read())\n",
    "print(\"Finished\")\n",
    "file.close()\n",
    "\n",
    "file = open(\"newfile.txt\", \"w\")\n",
    "file.write(\"Some new text\")\n",
    "file.close()\n",
    "\n",
    "file = open(\"newfile.txt\", \"r\")\n",
    "print(\"Reading new contents\")\n",
    "print(file.read())\n",
    "print(\"Finished\")\n",
    "file.close()\n"
   ]
  },
  {
   "cell_type": "code",
   "execution_count": 22,
   "metadata": {},
   "outputs": [
    {
     "name": "stdout",
     "output_type": "stream",
     "text": [
      "new reading intiation\n",
      "New test text\n",
      "finished\n",
      "the second rereading the file\n",
      "New test text\n",
      "I finished reading\n"
     ]
    }
   ],
   "source": [
    "file =open(\"newfile.txt\",\"r\")\n",
    "print(\"new reading intiation\")\n",
    "print(file.read())\n",
    "print(\"finished\")\n",
    "file.close()\n",
    "\n",
    "file= open(\"newfile.txt\",\"w\")\n",
    "file.write(\"New test text\")\n",
    "file.close()\n",
    "\n",
    "file = open(\"newfile.txt\",\"r\")\n",
    "print(\"the second rereading the file\")\n",
    "print(file.read())\n",
    "print(\"I finished reading\")\n",
    "file.close()"
   ]
  },
  {
   "cell_type": "code",
   "execution_count": 23,
   "metadata": {
    "collapsed": true
   },
   "outputs": [],
   "source": [
    "file = open(\"newfile.txt\",\"w\")\n",
    "file.close()"
   ]
  },
  {
   "cell_type": "code",
   "execution_count": 24,
   "metadata": {
    "collapsed": true
   },
   "outputs": [],
   "source": [
    "file = open(\"newfile.txt\",\"w\")\n",
    "file.close()"
   ]
  },
  {
   "cell_type": "code",
   "execution_count": 25,
   "metadata": {
    "collapsed": true
   },
   "outputs": [],
   "source": [
    "file = open(\"newfile.txt\",\"w\")\n",
    "file.close()"
   ]
  },
  {
   "cell_type": "code",
   "execution_count": 26,
   "metadata": {
    "collapsed": true
   },
   "outputs": [],
   "source": [
    "file =open(\"newfile.txt\",\"w\")\n",
    "file.close()"
   ]
  },
  {
   "cell_type": "code",
   "execution_count": 27,
   "metadata": {},
   "outputs": [
    {
     "name": "stdout",
     "output_type": "stream",
     "text": [
      "12\n"
     ]
    }
   ],
   "source": [
    "msg = \"Hello world!\"\n",
    "file = open(\"newfile.txt\", \"w\")\n",
    "amount_written = file.write(msg)\n",
    "print(amount_written)\n",
    "file.close()"
   ]
  },
  {
   "cell_type": "code",
   "execution_count": 31,
   "metadata": {},
   "outputs": [
    {
     "name": "stdout",
     "output_type": "stream",
     "text": [
      "1\n"
     ]
    }
   ],
   "source": [
    "msg = \"H\"\n",
    "file = open(\"newfile.txt\",\"w\")\n",
    "amount_written= file.write(msg)\n",
    "print(amount_written)\n",
    "file.close()"
   ]
  },
  {
   "cell_type": "code",
   "execution_count": 33,
   "metadata": {},
   "outputs": [
    {
     "name": "stdout",
     "output_type": "stream",
     "text": [
      "24\n"
     ]
    }
   ],
   "source": [
    "msg = \"LKdsfna,msdnf,man,dm234H\"\n",
    "file = open(\"newfile.txt\",\"w\")\n",
    "amount_written= file.write(msg)\n",
    "print(amount_written)\n",
    "file.close()"
   ]
  },
  {
   "cell_type": "code",
   "execution_count": 36,
   "metadata": {},
   "outputs": [
    {
     "name": "stdout",
     "output_type": "stream",
     "text": [
      "0\n"
     ]
    }
   ],
   "source": [
    "msg = \"\"\n",
    "file = open(\"newfile.txt\",\"w\")\n",
    "amount_written= file.write(msg)\n",
    "print(amount_written)\n",
    "file.close()"
   ]
  },
  {
   "cell_type": "code",
   "execution_count": 37,
   "metadata": {},
   "outputs": [
    {
     "name": "stdout",
     "output_type": "stream",
     "text": [
      "LSdklfgajlerkljylq243u56028096uyerjgkasndlkfg\n",
      "afdgjkhajksrht 18756qjrlga\n",
      "asdgfasdfcg qqt w qw55 w45y62qw45yw45y w\n",
      "aertt q235 125y6 wrth s\n",
      " aret aerg sadfgh sxdth w5y w46uywsrth lsje toq3t hauyhrt iahe;rgjk ha;rt \n",
      "ar\n",
      "\n",
      "ar auer a[rhr tahfjkfga\n",
      "r\n",
      "g\n",
      "a rg izdf;gh;a rr4t y q9 h\n"
     ]
    }
   ],
   "source": [
    "try:\n",
    "   f = open(\"filename.txt\")\n",
    "   print(f.read())\n",
    "finally:\n",
    "   f.close()"
   ]
  },
  {
   "cell_type": "code",
   "execution_count": 38,
   "metadata": {},
   "outputs": [
    {
     "name": "stdout",
     "output_type": "stream",
     "text": [
      "LSdklfgajlerkljylq243u56028096uyerjgkasndlkfg\n",
      "afdgjkhajksrht 18756qjrlga\n",
      "asdgfasdfcg qqt w qw55 w45y62qw45yw45y w\n",
      "aertt q235 125y6 wrth s\n",
      " aret aerg sadfgh sxdth w5y w46uywsrth lsje toq3t hauyhrt iahe;rgjk ha;rt \n",
      "ar\n",
      "\n",
      "ar auer a[rhr tahfjkfga\n",
      "r\n",
      "g\n",
      "a rg izdf;gh;a rr4t y q9 h\n"
     ]
    }
   ],
   "source": [
    "try:\n",
    "    f = open(\"filename.txt\")\n",
    "    print(f.read())\n",
    "finally:\n",
    "    f.close()"
   ]
  },
  {
   "cell_type": "code",
   "execution_count": 40,
   "metadata": {},
   "outputs": [
    {
     "name": "stdout",
     "output_type": "stream",
     "text": [
      "LSdklfgajlerkljylq243u56028096uyerjgkasndlkfg\n",
      "afdgjkhajksrht 18756qjrlga\n",
      "asdgfasdfcg qqt w qw55 w45y62qw45yw45y w\n",
      "aertt q235 125y6 wrth s\n",
      " aret aerg sadfgh sxdth w5y w46uywsrth lsje toq3t hauyhrt iahe;rgjk ha;rt \n",
      "ar\n",
      "\n",
      "ar auer a[rhr tahfjkfga\n",
      "r\n",
      "g\n",
      "a rg izdf;gh;a rr4t y q9 h\n"
     ]
    }
   ],
   "source": [
    "try:\n",
    "    f = open(\"filename.txt\",\"r\")\n",
    "    print(f.read())\n",
    "finally:\n",
    "    f.close()"
   ]
  },
  {
   "cell_type": "code",
   "execution_count": 41,
   "metadata": {},
   "outputs": [
    {
     "name": "stdout",
     "output_type": "stream",
     "text": [
      "LSdklfgajlerkljylq243u56028096uyerjgkasndlkfg\n",
      "afdgjkhajksrht 18756qjrlga\n",
      "asdgfasdfcg qqt w qw55 w45y62qw45yw45y w\n",
      "aertt q235 125y6 wrth s\n",
      " aret aerg sadfgh sxdth w5y w46uywsrth lsje toq3t hauyhrt iahe;rgjk ha;rt \n",
      "ar\n",
      "\n",
      "ar auer a[rhr tahfjkfga\n",
      "r\n",
      "g\n",
      "a rg izdf;gh;a rr4t y q9 h\n"
     ]
    }
   ],
   "source": [
    "try:\n",
    "    f = open(\"filename.txt\",\"r\")\n",
    "    print(f.read())\n",
    "finally:\n",
    "    f.close()"
   ]
  },
  {
   "cell_type": "code",
   "execution_count": 42,
   "metadata": {},
   "outputs": [
    {
     "name": "stdout",
     "output_type": "stream",
     "text": [
      "LSdklfgajlerkljylq243u56028096uyerjgkasndlkfg\n",
      "afdgjkhajksrht 18756qjrlga\n",
      "asdgfasdfcg qqt w qw55 w45y62qw45yw45y w\n",
      "aertt q235 125y6 wrth s\n",
      " aret aerg sadfgh sxdth w5y w46uywsrth lsje toq3t hauyhrt iahe;rgjk ha;rt \n",
      "ar\n",
      "\n",
      "ar auer a[rhr tahfjkfga\n",
      "r\n",
      "g\n",
      "a rg izdf;gh;a rr4t y q9 h\n"
     ]
    }
   ],
   "source": [
    "try:\n",
    "    f=open(\"filename.txt\",\"r\")\n",
    "    print(f.read())\n",
    "finally:\n",
    "    f.close()"
   ]
  },
  {
   "cell_type": "code",
   "execution_count": 43,
   "metadata": {},
   "outputs": [
    {
     "name": "stdout",
     "output_type": "stream",
     "text": [
      "LSdklfgajlerkljylq243u56028096uyerjgkasndlkfg\n",
      "afdgjkhajksrht 18756qjrlga\n",
      "asdgfasdfcg qqt w qw55 w45y62qw45yw45y w\n",
      "aertt q235 125y6 wrth s\n",
      " aret aerg sadfgh sxdth w5y w46uywsrth lsje toq3t hauyhrt iahe;rgjk ha;rt \n",
      "ar\n",
      "\n",
      "ar auer a[rhr tahfjkfga\n",
      "r\n",
      "g\n",
      "a rg izdf;gh;a rr4t y q9 h\n"
     ]
    }
   ],
   "source": [
    "try:\n",
    "    f=open(\"filename.txt\",\"r\")\n",
    "    print(f.read())\n",
    "finally:\n",
    "    f.close()"
   ]
  },
  {
   "cell_type": "code",
   "execution_count": 45,
   "metadata": {},
   "outputs": [
    {
     "name": "stdout",
     "output_type": "stream",
     "text": [
      "LSdklfgajlerkljylq243u56028096uyerjgkasndlkfg\n",
      "afdgjkhajksrht 18756qjrlga\n",
      "asdgfasdfcg qqt w qw55 w45y62qw45yw45y w\n",
      "aertt q235 125y6 wrth s\n",
      " aret aerg sadfgh sxdth w5y w46uywsrth lsje toq3t hauyhrt iahe;rgjk ha;rt \n",
      "ar\n",
      "\n",
      "ar auer a[rhr tahfjkfga\n",
      "r\n",
      "g\n",
      "a rg izdf;gh;a rr4t y q9 h\n"
     ]
    }
   ],
   "source": [
    "try:\n",
    "    f=open(\"filename.txt\",'r')\n",
    "    print(f.read())\n",
    "finally:\n",
    "    f.close()"
   ]
  },
  {
   "cell_type": "code",
   "execution_count": 46,
   "metadata": {},
   "outputs": [
    {
     "name": "stdout",
     "output_type": "stream",
     "text": [
      "LSdklfgajlerkljylq243u56028096uyerjgkasndlkfg\n",
      "afdgjkhajksrht 18756qjrlga\n",
      "asdgfasdfcg qqt w qw55 w45y62qw45yw45y w\n",
      "aertt q235 125y6 wrth s\n",
      " aret aerg sadfgh sxdth w5y w46uywsrth lsje toq3t hauyhrt iahe;rgjk ha;rt \n",
      "ar\n",
      "\n",
      "ar auer a[rhr tahfjkfga\n",
      "r\n",
      "g\n",
      "a rg izdf;gh;a rr4t y q9 h\n"
     ]
    }
   ],
   "source": [
    "try:\n",
    "    f=open(\"filename.txt\",\"r\")\n",
    "    print(f.read())\n",
    "finally:\n",
    "    f.close()"
   ]
  },
  {
   "cell_type": "code",
   "execution_count": 47,
   "metadata": {},
   "outputs": [
    {
     "name": "stdout",
     "output_type": "stream",
     "text": [
      "LSdklfgajlerkljylq243u56028096uyerjgkasndlkfg\n",
      "afdgjkhajksrht 18756qjrlga\n",
      "asdgfasdfcg qqt w qw55 w45y62qw45yw45y w\n",
      "aertt q235 125y6 wrth s\n",
      " aret aerg sadfgh sxdth w5y w46uywsrth lsje toq3t hauyhrt iahe;rgjk ha;rt \n",
      "ar\n",
      "\n",
      "ar auer a[rhr tahfjkfga\n",
      "r\n",
      "g\n",
      "a rg izdf;gh;a rr4t y q9 h\n"
     ]
    }
   ],
   "source": [
    "try:\n",
    "    f=open(\"filename.txt\",'r')\n",
    "    print(f.read())\n",
    "finally:\n",
    "    f.close()"
   ]
  },
  {
   "cell_type": "code",
   "execution_count": 48,
   "metadata": {},
   "outputs": [
    {
     "name": "stdout",
     "output_type": "stream",
     "text": [
      "LSdklfgajlerkljylq243u56028096uyerjgkasndlkfg\n",
      "afdgjkhajksrht 18756qjrlga\n",
      "asdgfasdfcg qqt w qw55 w45y62qw45yw45y w\n",
      "aertt q235 125y6 wrth s\n",
      " aret aerg sadfgh sxdth w5y w46uywsrth lsje toq3t hauyhrt iahe;rgjk ha;rt \n",
      "ar\n",
      "\n",
      "ar auer a[rhr tahfjkfga\n",
      "r\n",
      "g\n",
      "a rg izdf;gh;a rr4t y q9 h\n"
     ]
    }
   ],
   "source": [
    "try:\n",
    "    f=open(\"filename.txt\",'r')\n",
    "    print(f.read())\n",
    "finally:\n",
    "    f.close()"
   ]
  },
  {
   "cell_type": "code",
   "execution_count": 49,
   "metadata": {},
   "outputs": [
    {
     "name": "stdout",
     "output_type": "stream",
     "text": [
      "LSdklfgajlerkljylq243u56028096uyerjgkasndlkfg\n",
      "afdgjkhajksrht 18756qjrlga\n",
      "asdgfasdfcg qqt w qw55 w45y62qw45yw45y w\n",
      "aertt q235 125y6 wrth s\n",
      " aret aerg sadfgh sxdth w5y w46uywsrth lsje toq3t hauyhrt iahe;rgjk ha;rt \n",
      "ar\n",
      "\n",
      "ar auer a[rhr tahfjkfga\n",
      "r\n",
      "g\n",
      "a rg izdf;gh;a rr4t y q9 h\n"
     ]
    }
   ],
   "source": [
    "try:\n",
    "    f=open(\"filename.txt\",\"r\")\n",
    "    print(f.read())\n",
    "finally:\n",
    "    f.close()"
   ]
  },
  {
   "cell_type": "code",
   "execution_count": 50,
   "metadata": {},
   "outputs": [
    {
     "name": "stdout",
     "output_type": "stream",
     "text": [
      "LSdklfgajlerkljylq243u56028096uyerjgkasndlkfg\n",
      "afdgjkhajksrht 18756qjrlga\n",
      "asdgfasdfcg qqt w qw55 w45y62qw45yw45y w\n",
      "aertt q235 125y6 wrth s\n",
      " aret aerg sadfgh sxdth w5y w46uywsrth lsje toq3t hauyhrt iahe;rgjk ha;rt \n",
      "ar\n",
      "\n",
      "ar auer a[rhr tahfjkfga\n",
      "r\n",
      "g\n",
      "a rg izdf;gh;a rr4t y q9 h\n"
     ]
    }
   ],
   "source": [
    "try:\n",
    "    f=open(\"filename.txt\",'r')\n",
    "    print(f.read())\n",
    "finally:\n",
    "    f.close()"
   ]
  },
  {
   "cell_type": "code",
   "execution_count": 51,
   "metadata": {},
   "outputs": [
    {
     "name": "stdout",
     "output_type": "stream",
     "text": [
      "LSdklfgajlerkljylq243u56028096uyerjgkasndlkfg\n",
      "afdgjkhajksrht 18756qjrlga\n",
      "asdgfasdfcg qqt w qw55 w45y62qw45yw45y w\n",
      "aertt q235 125y6 wrth s\n",
      " aret aerg sadfgh sxdth w5y w46uywsrth lsje toq3t hauyhrt iahe;rgjk ha;rt \n",
      "ar\n",
      "\n",
      "ar auer a[rhr tahfjkfga\n",
      "r\n",
      "g\n",
      "a rg izdf;gh;a rr4t y q9 h\n"
     ]
    }
   ],
   "source": [
    "with open(\"filename.txt\") as f:\n",
    "   print(f.read())"
   ]
  },
  {
   "cell_type": "code",
   "execution_count": 54,
   "metadata": {},
   "outputs": [
    {
     "name": "stdout",
     "output_type": "stream",
     "text": [
      "LSdklfgajlerkljylq243u56028096uyerjgkasndlkfg\n",
      "afdgjkhajksrht 18756qjrlga\n",
      "asdgfasdfcg qqt w qw55 w45y62qw45yw45y w\n",
      "aertt q235 125y6 wrth s\n",
      " aret aerg sadfgh sxdth w5y w46uywsrth lsje toq3t hauyhrt iahe;rgjk ha;rt \n",
      "ar\n",
      "\n",
      "ar auer a[rhr tahfjkfga\n",
      "r\n",
      "g\n",
      "a rg izdf;gh;a rr4t y q9 h\n"
     ]
    }
   ],
   "source": [
    "with open(\"filename.txt\") as f:\n",
    "    print(f.read())"
   ]
  },
  {
   "cell_type": "code",
   "execution_count": 55,
   "metadata": {},
   "outputs": [
    {
     "name": "stdout",
     "output_type": "stream",
     "text": [
      "LSdklfgajlerkljylq243u56028096uyerjgkasndlkfg\n",
      "afdgjkhajksrht 18756qjrlga\n",
      "asdgfasdfcg qqt w qw55 w45y62qw45yw45y w\n",
      "aertt q235 125y6 wrth s\n",
      " aret aerg sadfgh sxdth w5y w46uywsrth lsje toq3t hauyhrt iahe;rgjk ha;rt \n",
      "ar\n",
      "\n",
      "ar auer a[rhr tahfjkfga\n",
      "r\n",
      "g\n",
      "a rg izdf;gh;a rr4t y q9 h\n"
     ]
    }
   ],
   "source": [
    "with open(\"filename.txt\") as f:\n",
    "    print(f.read())"
   ]
  },
  {
   "cell_type": "code",
   "execution_count": 56,
   "metadata": {},
   "outputs": [
    {
     "name": "stdout",
     "output_type": "stream",
     "text": [
      "LSdklfgajlerkljylq243u56028096uyerjgkasndlkfg\n",
      "afdgjkhajksrht 18756qjrlga\n",
      "asdgfasdfcg qqt w qw55 w45y62qw45yw45y w\n",
      "aertt q235 125y6 wrth s\n",
      " aret aerg sadfgh sxdth w5y w46uywsrth lsje toq3t hauyhrt iahe;rgjk ha;rt \n",
      "ar\n",
      "\n",
      "ar auer a[rhr tahfjkfga\n",
      "r\n",
      "g\n",
      "a rg izdf;gh;a rr4t y q9 h\n"
     ]
    }
   ],
   "source": [
    "with open(\"filename.txt\") as f:\n",
    "    print(f.read())"
   ]
  },
  {
   "cell_type": "code",
   "execution_count": 57,
   "metadata": {},
   "outputs": [
    {
     "name": "stdout",
     "output_type": "stream",
     "text": [
      "LSdklfgajlerkljylq243u56028096uyerjgkasndlkfg\n",
      "afdgjkhajksrht 18756qjrlga\n",
      "asdgfasdfcg qqt w qw55 w45y62qw45yw45y w\n",
      "aertt q235 125y6 wrth s\n",
      " aret aerg sadfgh sxdth w5y w46uywsrth lsje toq3t hauyhrt iahe;rgjk ha;rt \n",
      "ar\n",
      "\n",
      "ar auer a[rhr tahfjkfga\n",
      "r\n",
      "g\n",
      "a rg izdf;gh;a rr4t y q9 h\n"
     ]
    }
   ],
   "source": [
    "with open(\"filename.txt\") as f:\n",
    "    print(f.read())"
   ]
  },
  {
   "cell_type": "code",
   "execution_count": 58,
   "metadata": {},
   "outputs": [
    {
     "name": "stdout",
     "output_type": "stream",
     "text": [
      "LSdklfgajlerkljylq243u56028096uyerjgkasndlkfg\n",
      "afdgjkhajksrht 18756qjrlga\n",
      "asdgfasdfcg qqt w qw55 w45y62qw45yw45y w\n",
      "aertt q235 125y6 wrth s\n",
      " aret aerg sadfgh sxdth w5y w46uywsrth lsje toq3t hauyhrt iahe;rgjk ha;rt \n",
      "ar\n",
      "\n",
      "ar auer a[rhr tahfjkfga\n",
      "r\n",
      "g\n",
      "a rg izdf;gh;a rr4t y q9 h\n"
     ]
    }
   ],
   "source": [
    "with open(\"filename.txt\") as f:\n",
    "    print(f.read())"
   ]
  },
  {
   "cell_type": "code",
   "execution_count": 59,
   "metadata": {},
   "outputs": [
    {
     "name": "stdout",
     "output_type": "stream",
     "text": [
      "LSdklfgajlerkljylq243u56028096uyerjgkasndlkfg\n",
      "afdgjkhajksrht 18756qjrlga\n",
      "asdgfasdfcg qqt w qw55 w45y62qw45yw45y w\n",
      "aertt q235 125y6 wrth s\n",
      " aret aerg sadfgh sxdth w5y w46uywsrth lsje toq3t hauyhrt iahe;rgjk ha;rt \n",
      "ar\n",
      "\n",
      "ar auer a[rhr tahfjkfga\n",
      "r\n",
      "g\n",
      "a rg izdf;gh;a rr4t y q9 h\n"
     ]
    }
   ],
   "source": [
    "with open(\"filename.txt\") as f:\n",
    "    print(f.read())"
   ]
  },
  {
   "cell_type": "code",
   "execution_count": 61,
   "metadata": {},
   "outputs": [
    {
     "name": "stdout",
     "output_type": "stream",
     "text": [
      "LSdklfgajlerkljylq243u56028096uyerjgkasndlkfg\n",
      "afdgjkhajksrht 18756qjrlga\n",
      "asdgfasdfcg qqt w qw55 w45y62qw45yw45y w\n",
      "aertt q235 125y6 wrth s\n",
      " aret aerg sadfgh sxdth w5y w46uywsrth lsje toq3t hauyhrt iahe;rgjk ha;rt \n",
      "ar\n",
      "\n",
      "ar auer a[rhr tahfjkfga\n",
      "r\n",
      "g\n",
      "a rg izdf;gh;a rr4t y q9 h\n"
     ]
    }
   ],
   "source": [
    "with open('filename.txt') as f:\n",
    "    print(f.read())"
   ]
  },
  {
   "cell_type": "code",
   "execution_count": null,
   "metadata": {
    "collapsed": true
   },
   "outputs": [],
   "source": [
    "except"
   ]
  }
 ],
 "metadata": {
  "kernelspec": {
   "display_name": "Python 3",
   "language": "python",
   "name": "python3"
  },
  "language_info": {
   "codemirror_mode": {
    "name": "ipython",
    "version": 3
   },
   "file_extension": ".py",
   "mimetype": "text/x-python",
   "name": "python",
   "nbconvert_exporter": "python",
   "pygments_lexer": "ipython3",
   "version": "3.6.1"
  }
 },
 "nbformat": 4,
 "nbformat_minor": 2
}
