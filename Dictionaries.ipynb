{
 "cells": [
  {
   "cell_type": "code",
   "execution_count": 1,
   "metadata": {},
   "outputs": [
    {
     "name": "stdout",
     "output_type": "stream",
     "text": [
      "24\n",
      "42\n"
     ]
    }
   ],
   "source": [
    "ages = {\"Dave\": 24, \"Mary\": 42, \"John\": 58}\n",
    "print(ages[\"Dave\"])\n",
    "print(ages[\"Mary\"])"
   ]
  },
  {
   "cell_type": "code",
   "execution_count": 4,
   "metadata": {},
   "outputs": [
    {
     "name": "stdout",
     "output_type": "stream",
     "text": [
      "34\n",
      "35\n",
      "30\n",
      "27\n",
      "29\n",
      "30\n",
      "34\n",
      "32\n"
     ]
    }
   ],
   "source": [
    "ages= {\"Anna\": 34, \"Michail\":35,\"Ksenia\":30,\"Kate\":27,\"Alex\":29,\"Nastia\":30,\"Alexander\":34,\"Oleg\":32}\n",
    "print(ages[\"Anna\"])\n",
    "print(ages[\"Michail\"])\n",
    "print(ages[\"Ksenia\"])\n",
    "print(ages[\"Kate\"])\n",
    "print(ages[\"Alex\"])\n",
    "print(ages[\"Nastia\"])\n",
    "print(ages[\"Alexander\"])\n",
    "print(ages[\"Oleg\"])"
   ]
  },
  {
   "cell_type": "code",
   "execution_count": 6,
   "metadata": {},
   "outputs": [
    {
     "name": "stdout",
     "output_type": "stream",
     "text": [
      "[255, 0, 0]\n"
     ]
    }
   ],
   "source": [
    "primary = {\n",
    "  \"red\": [255, 0, 0], \n",
    "  \"green\": [0, 255, 0], \n",
    "  \"blue\": [0, 0, 255], \n",
    "}\n",
    "\n",
    "print(primary[\"red\"])\n",
    "#print(primary[\"yellow\"])\n"
   ]
  },
  {
   "cell_type": "code",
   "execution_count": 7,
   "metadata": {},
   "outputs": [
    {
     "name": "stdout",
     "output_type": "stream",
     "text": [
      "[255, 0, 0]\n",
      "[0, 255, 0]\n",
      "[0, 0, 255]\n"
     ]
    }
   ],
   "source": [
    "primary ={\"red\":[255,0,0],\"green\":[0,255,0],\"blue\":[0,0,255]}\n",
    "print(primary[\"red\"])\n",
    "print(primary[\"green\"])\n",
    "print(primary[\"blue\"])"
   ]
  },
  {
   "cell_type": "code",
   "execution_count": 9,
   "metadata": {},
   "outputs": [
    {
     "name": "stdout",
     "output_type": "stream",
     "text": [
      "[255, 0, 0]\n",
      "[0, 255, 0]\n",
      "[0, 0, 255]\n"
     ]
    }
   ],
   "source": [
    "primary = {\"red\":[255,0,0],\"green\":[0,255,0],\"blue\":[0,0,255]}\n",
    "print(primary[\"red\"])\n",
    "print(primary[\"green\"])\n",
    "print(primary[\"blue\"])\n"
   ]
  },
  {
   "cell_type": "code",
   "execution_count": 11,
   "metadata": {},
   "outputs": [
    {
     "name": "stdout",
     "output_type": "stream",
     "text": [
      "[255, 0, 0]\n",
      "[0, 255, 0]\n",
      "[0, 0, 255]\n"
     ]
    }
   ],
   "source": [
    "primary = {\"red\":[255,0,0],\"green\":[0,255,0],\"blue\":[0,0,255]}\n",
    "print(primary[\"red\"])\n",
    "print(primary[\"green\"])\n",
    "print(primary[\"blue\"])"
   ]
  },
  {
   "cell_type": "code",
   "execution_count": 12,
   "metadata": {},
   "outputs": [
    {
     "ename": "TypeError",
     "evalue": "unhashable type: 'list'",
     "output_type": "error",
     "traceback": [
      "\u001b[1;31m---------------------------------------------------------------------------\u001b[0m",
      "\u001b[1;31mTypeError\u001b[0m                                 Traceback (most recent call last)",
      "\u001b[1;32m<ipython-input-12-805fb5978efd>\u001b[0m in \u001b[0;36m<module>\u001b[1;34m()\u001b[0m\n\u001b[0;32m      1\u001b[0m bad_dict = {\n\u001b[1;32m----> 2\u001b[1;33m   \u001b[1;33m[\u001b[0m\u001b[1;36m1\u001b[0m\u001b[1;33m,\u001b[0m \u001b[1;36m2\u001b[0m\u001b[1;33m,\u001b[0m \u001b[1;36m3\u001b[0m\u001b[1;33m]\u001b[0m\u001b[1;33m:\u001b[0m \u001b[1;34m\"one two three\"\u001b[0m\u001b[1;33m,\u001b[0m\u001b[1;33m\u001b[0m\u001b[0m\n\u001b[0m\u001b[0;32m      3\u001b[0m }\n",
      "\u001b[1;31mTypeError\u001b[0m: unhashable type: 'list'"
     ]
    }
   ],
   "source": [
    "bad_dict = {\n",
    "  [1, 2, 3]: \"one two three\", \n",
    "}"
   ]
  },
  {
   "cell_type": "code",
   "execution_count": 13,
   "metadata": {},
   "outputs": [
    {
     "name": "stdout",
     "output_type": "stream",
     "text": [
      "True\n",
      "False\n",
      "True\n"
     ]
    }
   ],
   "source": [
    "nums = {\n",
    "  1: \"one\",\n",
    "  2: \"two\",\n",
    "  3: \"three\",\n",
    "}\n",
    "print(1 in nums)\n",
    "print(\"three\" in nums)\n",
    "print(4 not in nums)"
   ]
  },
  {
   "cell_type": "code",
   "execution_count": 15,
   "metadata": {},
   "outputs": [
    {
     "name": "stdout",
     "output_type": "stream",
     "text": [
      "True\n",
      "True\n",
      "True\n",
      "True\n"
     ]
    }
   ],
   "source": [
    "nums = {1:\"one\",2:\"two\",3:\"three\"}\n",
    "\n",
    "print( 1 in nums)\n",
    "print(2 in nums)\n",
    "print( 3 in nums)\n",
    "print( 4 not in nums)"
   ]
  },
  {
   "cell_type": "code",
   "execution_count": 16,
   "metadata": {},
   "outputs": [
    {
     "name": "stdout",
     "output_type": "stream",
     "text": [
      "True\n",
      "True\n",
      "True\n",
      "True\n",
      "True\n"
     ]
    }
   ],
   "source": [
    "nums = {1:\"one\",2:\"two\",3:\"three\",4:\"for\"}\n",
    "\n",
    "print(1 in nums)\n",
    "print(2 in nums)\n",
    "print(3 in nums)\n",
    "print(4 in nums)\n",
    "print(5 not in nums)"
   ]
  },
  {
   "cell_type": "code",
   "execution_count": 20,
   "metadata": {},
   "outputs": [
    {
     "name": "stdout",
     "output_type": "stream",
     "text": [
      "1 2 3 True\n"
     ]
    }
   ],
   "source": [
    "nums = {1:\"1\",2:\"2\",3:\"3\",4:\"4\"}\n",
    "\n",
    "print(1,2,3,4 in nums)"
   ]
  },
  {
   "cell_type": "markdown",
   "metadata": {},
   "source": [
    "nums = {1:\"1\",2:\"2\"}\n",
    "print( 3 not in nums)"
   ]
  },
  {
   "cell_type": "code",
   "execution_count": 22,
   "metadata": {},
   "outputs": [
    {
     "name": "stdout",
     "output_type": "stream",
     "text": [
      "True\n"
     ]
    }
   ],
   "source": [
    "nums = {1:\"1\",2:\"2\"}\n",
    "print( 3 not in nums)"
   ]
  },
  {
   "cell_type": "code",
   "execution_count": 23,
   "metadata": {},
   "outputs": [
    {
     "name": "stdout",
     "output_type": "stream",
     "text": [
      "8\n"
     ]
    }
   ],
   "source": [
    "fib = {1: 1, 2: 1, 3: 2, 4: 3}\n",
    "print(fib.get(4, 0) + fib.get(7, 5))"
   ]
  },
  {
   "cell_type": "code",
   "execution_count": 24,
   "metadata": {},
   "outputs": [
    {
     "name": "stdout",
     "output_type": "stream",
     "text": [
      "6\n"
     ]
    }
   ],
   "source": [
    "fig ={1:1, 2:2,3:3,4:4, 5:5}\n",
    "print(fig.get(4,0)+ fig.get(10,2))"
   ]
  },
  {
   "cell_type": "code",
   "execution_count": 25,
   "metadata": {},
   "outputs": [
    {
     "name": "stdout",
     "output_type": "stream",
     "text": [
      "10\n"
     ]
    }
   ],
   "source": [
    "fig = {10:10,11:11,12:12,13:13}\n",
    "print(fig.get(4,0)+fig.get(10,0))"
   ]
  },
  {
   "cell_type": "code",
   "execution_count": 26,
   "metadata": {},
   "outputs": [
    {
     "name": "stdout",
     "output_type": "stream",
     "text": [
      "46\n"
     ]
    }
   ],
   "source": [
    "fig = {10:10,11:11,12:12,13:13}\n",
    "print(fig.get(10,0)+fig.get(11,0)+fig.get(12,0)+fig.get(13,0))"
   ]
  },
  {
   "cell_type": "code",
   "execution_count": 27,
   "metadata": {},
   "outputs": [
    {
     "name": "stdout",
     "output_type": "stream",
     "text": [
      "11\n"
     ]
    }
   ],
   "source": [
    "fig = {10:10,11:11,12:12,13:13}\n",
    "print(fig.get(0,5)+fig.get(1,1)+fig.get(2,2)+fig.get(3,3))"
   ]
  },
  {
   "cell_type": "code",
   "execution_count": 29,
   "metadata": {},
   "outputs": [
    {
     "name": "stdout",
     "output_type": "stream",
     "text": [
      "120\n"
     ]
    }
   ],
   "source": [
    "dictionary = {110:10,11:11,12:12,13:13}\n",
    "print(dictionary.get(110)+dictionary.get(111,110))"
   ]
  },
  {
   "cell_type": "code",
   "execution_count": 30,
   "metadata": {},
   "outputs": [
    {
     "name": "stdout",
     "output_type": "stream",
     "text": [
      "24\n"
     ]
    }
   ],
   "source": [
    "dict = {10:10,11:11,12:12,13:13}\n",
    "print(dict.get(12,1)+dict.get(12,1))"
   ]
  },
  {
   "cell_type": "code",
   "execution_count": null,
   "metadata": {
    "collapsed": true
   },
   "outputs": [],
   "source": []
  }
 ],
 "metadata": {
  "kernelspec": {
   "display_name": "Python 3",
   "language": "python",
   "name": "python3"
  },
  "language_info": {
   "codemirror_mode": {
    "name": "ipython",
    "version": 3
   },
   "file_extension": ".py",
   "mimetype": "text/x-python",
   "name": "python",
   "nbconvert_exporter": "python",
   "pygments_lexer": "ipython3",
   "version": "3.6.1"
  }
 },
 "nbformat": 4,
 "nbformat_minor": 2
}
