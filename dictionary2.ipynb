{
 "cells": [
  {
   "cell_type": "code",
   "execution_count": null,
   "metadata": {},
   "outputs": [
    {
     "name": "stdout",
     "output_type": "stream",
     "text": [
      "20\n",
      "20\n",
      "400\n",
      "20\n",
      "400\n",
      "12\n",
      "144\n"
     ]
    }
   ],
   "source": [
    "def f(x):\n",
    "    return x**2\n",
    "\n",
    "n = int(input())\n",
    "\n",
    "dictionary = {}\n",
    "\n",
    "for n in range(0, n):\n",
    "    n = int(input())\n",
    "    if dictionary.get(n) == None:\n",
    "        dictionary.setdefault(n, f(n))\n",
    "    print(dictionary[n]) "
   ]
  },
  {
   "cell_type": "code",
   "execution_count": 1,
   "metadata": {},
   "outputs": [
    {
     "name": "stdout",
     "output_type": "stream",
     "text": [
      "inter x is power of...10\n",
      "5\n",
      "1\n",
      "1\n",
      "1\n",
      "1\n",
      "12\n",
      "61917364224\n",
      "12\n",
      "61917364224\n",
      "12\n",
      "61917364224\n"
     ]
    }
   ],
   "source": [
    "x=int(input(\"inter x is power of...\"))\n",
    "def function(x):\n",
    "    return x**10\n",
    "\n",
    "n= int(input())\n",
    "\n",
    "dictionary= {}\n",
    "\n",
    "for n in range(0,n):\n",
    "    n = int(input())\n",
    "    \n",
    "    if dictionary.get(n)==None:\n",
    "        dictionary.setdefault(n,function(n))\n",
    "    print(dictionary[n])"
   ]
  },
  {
   "cell_type": "code",
   "execution_count": 4,
   "metadata": {},
   "outputs": [
    {
     "name": "stdout",
     "output_type": "stream",
     "text": [
      "сколько чисел вводим, хозяин?2\n",
      "Пожалуйста введите число5\n",
      "3125\n",
      "Пожалуйста введите число10\n",
      "100000\n"
     ]
    }
   ],
   "source": [
    "def f(x):\n",
    "    return x**5\n",
    "\n",
    "n=int (input(\"сколько чисел вводим, хозяин?\"))\n",
    "dicti={}\n",
    "\n",
    "for n in range(0,n):\n",
    "    n=int(input(\"Пожалуйста введите число\"))\n",
    "    \n",
    "    if dicti.get(n)==None:\n",
    "        dicti.setdefault(n,f(n))\n",
    "    print(dicti[n])"
   ]
  },
  {
   "cell_type": "code",
   "execution_count": null,
   "metadata": {},
   "outputs": [],
   "source": [
    "def f(x):\n",
    "    return x**4\n",
    "\n",
    "n = int(input())\n",
    "dic={}\n",
    "\n",
    "for n in range(0,n):\n",
    "    n= int(input())\n",
    "    \n",
    "    if dic.get(n)==None:\n",
    "        dic.setdefault(n,f(n))\n",
    "    print(dic[n])"
   ]
  },
  {
   "cell_type": "code",
   "execution_count": null,
   "metadata": {
    "collapsed": true
   },
   "outputs": [],
   "source": [
    "def f(x):\n",
    "    return x**4\n",
    "\n",
    "n= int(input())\n",
    "dictionary1={}\n",
    "\n",
    "for n in range(0,n):\n",
    "    n= int(input())\n",
    "    \n",
    "    if dictionary.get(n)!=None:\n",
    "        dictionary.setdefault(n,f(x))\n",
    "    print(dictionary[n])"
   ]
  },
  {
   "cell_type": "code",
   "execution_count": null,
   "metadata": {
    "collapsed": true
   },
   "outputs": [],
   "source": [
    "def f(x):\n",
    "    return x**10\n",
    "n= int(input())\n",
    "dictionary2={}\n",
    "\n",
    "for n in range(0,n):\n",
    "    n=int(input())\n",
    "    \n",
    "    if dictionary2.get(n)!=None:\n",
    "        dictionary2.setdefault(n,f(x))\n",
    "    print(dictionary2[n])"
   ]
  }
 ],
 "metadata": {
  "kernelspec": {
   "display_name": "Python 3",
   "language": "python",
   "name": "python3"
  },
  "language_info": {
   "codemirror_mode": {
    "name": "ipython",
    "version": 3
   },
   "file_extension": ".py",
   "mimetype": "text/x-python",
   "name": "python",
   "nbconvert_exporter": "python",
   "pygments_lexer": "ipython3",
   "version": "3.6.1"
  }
 },
 "nbformat": 4,
 "nbformat_minor": 2
}
