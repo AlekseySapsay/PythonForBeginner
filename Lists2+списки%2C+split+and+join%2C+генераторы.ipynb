{
 "cells": [
  {
   "cell_type": "code",
   "execution_count": 1,
   "metadata": {},
   "outputs": [
    {
     "name": "stdout",
     "output_type": "stream",
     "text": [
      "5\n",
      "1\n",
      "2\n",
      "4\n",
      "5\n",
      "6\n",
      "[1, 2, 4, 5, 6]\n"
     ]
    }
   ],
   "source": [
    "a = []\n",
    "for i in range(int(input())):\n",
    "    a.append(int(input()))\n",
    "print(a)"
   ]
  },
  {
   "cell_type": "code",
   "execution_count": 2,
   "metadata": {},
   "outputs": [
    {
     "name": "stdout",
     "output_type": "stream",
     "text": [
      "1\n",
      "2\n",
      "[2]\n"
     ]
    }
   ],
   "source": [
    "b= []\n",
    "for k in range(int(input())):\n",
    "    b.append(int(input()))\n",
    "print(b)"
   ]
  },
  {
   "cell_type": "code",
   "execution_count": 3,
   "metadata": {},
   "outputs": [
    {
     "name": "stdout",
     "output_type": "stream",
     "text": [
      "2\n",
      "10\n",
      "1\n",
      "[10, 1]\n"
     ]
    }
   ],
   "source": [
    "c=[]\n",
    "for x in range(int(input())):\n",
    "    c.append(int(input()))\n",
    "print(c)"
   ]
  },
  {
   "cell_type": "code",
   "execution_count": 4,
   "metadata": {},
   "outputs": [
    {
     "name": "stdout",
     "output_type": "stream",
     "text": [
      "2\n",
      "01\n",
      "1\n",
      "[1, 1]\n"
     ]
    }
   ],
   "source": [
    "q=[]\n",
    "for a in range(int(input())):\n",
    "    q.append(int(input()))\n",
    "print(q)"
   ]
  },
  {
   "cell_type": "code",
   "execution_count": 5,
   "metadata": {},
   "outputs": [
    {
     "name": "stdout",
     "output_type": "stream",
     "text": [
      "1\n",
      "7\n",
      "[7]\n"
     ]
    }
   ],
   "source": [
    "e=[]\n",
    "for n in range(int(input())):\n",
    "    e.append(int(input()))\n",
    "print(e)"
   ]
  },
  {
   "cell_type": "code",
   "execution_count": 6,
   "metadata": {},
   "outputs": [
    {
     "name": "stdout",
     "output_type": "stream",
     "text": [
      "1\n",
      "0\n",
      "[0]\n"
     ]
    }
   ],
   "source": [
    "t= []\n",
    "for w in range(int(input())):\n",
    "    t.append(int(input()))\n",
    "print(t)"
   ]
  },
  {
   "cell_type": "code",
   "execution_count": 8,
   "metadata": {},
   "outputs": [
    {
     "name": "stdout",
     "output_type": "stream",
     "text": [
      "1\n",
      "0\n",
      "[0]\n"
     ]
    }
   ],
   "source": [
    "y=[]\n",
    "for r in range(int(input())):\n",
    "    y.append(int(input()))\n",
    "print(y)"
   ]
  },
  {
   "cell_type": "code",
   "execution_count": 11,
   "metadata": {},
   "outputs": [
    {
     "name": "stdout",
     "output_type": "stream",
     "text": [
      "0\n",
      "[]\n"
     ]
    }
   ],
   "source": [
    "z=[]\n",
    "for z in range(int(input())):\n",
    "    z.append(int(input()))\n",
    "print(z)\n"
   ]
  },
  {
   "cell_type": "code",
   "execution_count": 15,
   "metadata": {},
   "outputs": [
    {
     "name": "stdout",
     "output_type": "stream",
     "text": [
      "2\n",
      "1\n",
      "2\n",
      "[1, 2]\n"
     ]
    }
   ],
   "source": [
    "s=[]\n",
    "for i in range(int(input())):\n",
    "    s.append(int(input()))\n",
    "print(s)"
   ]
  },
  {
   "cell_type": "code",
   "execution_count": 16,
   "metadata": {},
   "outputs": [
    {
     "name": "stdout",
     "output_type": "stream",
     "text": [
      "1\n",
      "2\n",
      "3\n",
      "4\n",
      "5\n"
     ]
    }
   ],
   "source": [
    "a = [1, 2, 3, 4, 5]\n",
    "for i in range(len(a)):\n",
    "    print(a[i])"
   ]
  },
  {
   "cell_type": "code",
   "execution_count": 17,
   "metadata": {},
   "outputs": [
    {
     "name": "stdout",
     "output_type": "stream",
     "text": [
      "1\n",
      "2\n",
      "3\n",
      "5\n",
      "6\n",
      "6\n",
      "7\n"
     ]
    }
   ],
   "source": [
    "b=[1,2,3,5,6,6,7]\n",
    "for i in range(len(b)):\n",
    "    print(b[i])"
   ]
  },
  {
   "cell_type": "code",
   "execution_count": 18,
   "metadata": {},
   "outputs": [
    {
     "name": "stdout",
     "output_type": "stream",
     "text": [
      "1 2 3 4 5 "
     ]
    }
   ],
   "source": [
    "a = [1, 2, 3, 4, 5]\n",
    "for elem in a:\n",
    "    print(elem, end=' ')\n"
   ]
  },
  {
   "cell_type": "code",
   "execution_count": 19,
   "metadata": {},
   "outputs": [
    {
     "name": "stdout",
     "output_type": "stream",
     "text": [
      "1 2 3 4 5 6 7 8 9 0 "
     ]
    }
   ],
   "source": [
    "b=[1,2,3,4,5,6,7,8,9,0]\n",
    "for element in b:\n",
    "    print(element, end =\" \")"
   ]
  },
  {
   "cell_type": "code",
   "execution_count": 21,
   "metadata": {},
   "outputs": [
    {
     "name": "stdout",
     "output_type": "stream",
     "text": [
      "123456789"
     ]
    }
   ],
   "source": [
    "c=[1,2,3,4,5,6,7,8,9]\n",
    "for element in c:\n",
    "    print(element, end=\"\")"
   ]
  },
  {
   "cell_type": "code",
   "execution_count": 23,
   "metadata": {},
   "outputs": [
    {
     "name": "stdout",
     "output_type": "stream",
     "text": [
      "1_2_34_5_56_7_8_"
     ]
    }
   ],
   "source": [
    "v=[1,2,34,5,56,7,8]\n",
    "for element in v:\n",
    "    print(element,end=\"_\")"
   ]
  },
  {
   "cell_type": "code",
   "execution_count": 24,
   "metadata": {},
   "outputs": [
    {
     "name": "stdout",
     "output_type": "stream",
     "text": [
      "1 2 3 4 5 6 "
     ]
    }
   ],
   "source": [
    "e=[1,2,3,4,5,6]\n",
    "for e in e:\n",
    "    print(e, end=\" \")"
   ]
  },
  {
   "cell_type": "code",
   "execution_count": 26,
   "metadata": {},
   "outputs": [
    {
     "name": "stdout",
     "output_type": "stream",
     "text": [
      "9 7 6 0 4 4 3 "
     ]
    }
   ],
   "source": [
    "x=[9,7,6,0,4,4,3]\n",
    "for elem in x:\n",
    "    print(elem,end=\" \")"
   ]
  },
  {
   "cell_type": "code",
   "execution_count": 27,
   "metadata": {},
   "outputs": [
    {
     "name": "stdout",
     "output_type": "stream",
     "text": [
      "[2, 2, 3, 54] [2, 2, 3, 54] [2, 2, 3, 54] [2, 2, 3, 54] "
     ]
    }
   ],
   "source": [
    "x=[2,2,3,54]\n",
    "for element in x:\n",
    "    print(x,end=\" \")"
   ]
  },
  {
   "cell_type": "code",
   "execution_count": 28,
   "metadata": {},
   "outputs": [
    {
     "name": "stdout",
     "output_type": "stream",
     "text": [
      "[1, 2, 4, 5] [1, 2, 4, 5] [1, 2, 4, 5] [1, 2, 4, 5] "
     ]
    }
   ],
   "source": [
    "z=[1,2,4,5]\n",
    "for element in z:\n",
    "    print(z,end=\" \")"
   ]
  },
  {
   "cell_type": "code",
   "execution_count": 29,
   "metadata": {},
   "outputs": [
    {
     "name": "stdout",
     "output_type": "stream",
     "text": [
      "1 2 3 45 "
     ]
    }
   ],
   "source": [
    "a=[1,2,3,45]\n",
    "for element in a:\n",
    "    print(element,end=\" \")"
   ]
  },
  {
   "cell_type": "code",
   "execution_count": 30,
   "metadata": {},
   "outputs": [
    {
     "name": "stdout",
     "output_type": "stream",
     "text": [
      "1 2 3 54 56 6 "
     ]
    }
   ],
   "source": [
    "w=[1,2,3,54,56,6]\n",
    "for element in w:\n",
    "    print(element,end=\" \")"
   ]
  },
  {
   "cell_type": "code",
   "execution_count": 33,
   "metadata": {},
   "outputs": [
    {
     "name": "stdout",
     "output_type": "stream",
     "text": [
      "1212121\n",
      "['1212121']\n"
     ]
    }
   ],
   "source": [
    "a=input()\n",
    "k=a.split()\n",
    "print(k)"
   ]
  },
  {
   "cell_type": "code",
   "execution_count": 34,
   "metadata": {},
   "outputs": [
    {
     "name": "stdout",
     "output_type": "stream",
     "text": [
      "451\n"
     ]
    }
   ],
   "source": [
    "v=input()\n",
    "x=v.split()"
   ]
  },
  {
   "cell_type": "code",
   "execution_count": 36,
   "metadata": {},
   "outputs": [
    {
     "name": "stdout",
     "output_type": "stream",
     "text": [
      "13256465\n",
      "[13256465]\n"
     ]
    }
   ],
   "source": [
    "a=input().split()\n",
    "for i in range(len(a)):\n",
    "    a[i]=int(a[i])\n",
    "print(a)"
   ]
  },
  {
   "cell_type": "code",
   "execution_count": 38,
   "metadata": {},
   "outputs": [
    {
     "name": "stdout",
     "output_type": "stream",
     "text": [
      "654654\n",
      "[654654]\n"
     ]
    }
   ],
   "source": [
    "v=input().split()\n",
    "for k in range(len(v)):\n",
    "    v[k]=int(v[k])\n",
    "print(v)"
   ]
  },
  {
   "cell_type": "code",
   "execution_count": 42,
   "metadata": {},
   "outputs": [
    {
     "name": "stdout",
     "output_type": "stream",
     "text": [
      "5454\n",
      "[5454]\n"
     ]
    }
   ],
   "source": [
    "x=input().split()\n",
    "for z in range(len(x)):\n",
    "    x[z]=int(x[z])\n",
    "print(x)"
   ]
  },
  {
   "cell_type": "code",
   "execution_count": 43,
   "metadata": {},
   "outputs": [
    {
     "name": "stdout",
     "output_type": "stream",
     "text": [
      "7124\n",
      "[7124]\n"
     ]
    }
   ],
   "source": [
    "w=input().split()\n",
    "for e in range(len(w)):\n",
    "    w[e]=int(w[e])\n",
    "print(w)"
   ]
  },
  {
   "cell_type": "code",
   "execution_count": 44,
   "metadata": {},
   "outputs": [
    {
     "name": "stdout",
     "output_type": "stream",
     "text": [
      "7921\n",
      "[7921]\n"
     ]
    }
   ],
   "source": [
    "t=input().split()\n",
    "for c in range(len(t)):\n",
    "    t[c]=int(t[c])\n",
    "print(t)"
   ]
  },
  {
   "cell_type": "code",
   "execution_count": 45,
   "metadata": {},
   "outputs": [
    {
     "name": "stdout",
     "output_type": "stream",
     "text": [
      "4268\n",
      "[4268]\n"
     ]
    }
   ],
   "source": [
    "b=input().split()\n",
    "for y in range(len(b)):\n",
    "    b[y]=int(b[y])\n",
    "print(b)"
   ]
  },
  {
   "cell_type": "code",
   "execution_count": 47,
   "metadata": {},
   "outputs": [
    {
     "name": "stdout",
     "output_type": "stream",
     "text": [
      "15165\n",
      "[15165]\n"
     ]
    }
   ],
   "source": [
    "p=input().split()\n",
    "for u in range(len(p)):\n",
    "    p[u]=int(p[u])\n",
    "print(p)"
   ]
  },
  {
   "cell_type": "code",
   "execution_count": 48,
   "metadata": {},
   "outputs": [
    {
     "name": "stdout",
     "output_type": "stream",
     "text": [
      "45121\n",
      "[45121]\n"
     ]
    }
   ],
   "source": [
    "r=input().split()\n",
    "for n in range(len(r)):\n",
    "    r[n]=int(r[n])\n",
    "print(r)"
   ]
  },
  {
   "cell_type": "code",
   "execution_count": 49,
   "metadata": {},
   "outputs": [
    {
     "name": "stdout",
     "output_type": "stream",
     "text": [
      "789\n",
      "[789]\n"
     ]
    }
   ],
   "source": [
    "o=input().split()\n",
    "for i in range(len(o)):\n",
    "    o[i]=int(o[i])\n",
    "print(o)"
   ]
  },
  {
   "cell_type": "code",
   "execution_count": 50,
   "metadata": {},
   "outputs": [
    {
     "name": "stdout",
     "output_type": "stream",
     "text": [
      "7441\n",
      "[7441]\n"
     ]
    }
   ],
   "source": [
    "p=input().split()\n",
    "for d in range(len(p)):\n",
    "    p[d]=int(p[d])\n",
    "print(p)"
   ]
  },
  {
   "cell_type": "code",
   "execution_count": 52,
   "metadata": {},
   "outputs": [
    {
     "name": "stdout",
     "output_type": "stream",
     "text": [
      "['192', '168', '0', '1']\n"
     ]
    }
   ],
   "source": [
    "a = '192.168.0.1'.split('.')\n",
    "print(a)"
   ]
  },
  {
   "cell_type": "code",
   "execution_count": 53,
   "metadata": {},
   "outputs": [
    {
     "name": "stdout",
     "output_type": "stream",
     "text": [
      "['1', '3', '4', '5', '6', '7', '8', '8', '', '45', '45', '45', '45', '4', '54', '54', '5', '']\n"
     ]
    }
   ],
   "source": [
    "b=\"1.3.4.5.6.7.8.8..45.45.45.45.4.54.54.5.\".split(\".\")\n",
    "print(b)"
   ]
  },
  {
   "cell_type": "code",
   "execution_count": 55,
   "metadata": {},
   "outputs": [
    {
     "name": "stdout",
     "output_type": "stream",
     "text": [
      "['2', 'b', 'd', 'd', 'we', '', 'e', 'qwe', 'qw', 'ea', 'sd', 'a', '', 'c', 'vc', 'vc', 'v', 'cv']\n"
     ]
    }
   ],
   "source": [
    "c=\"2.b.d.d.we..e.qwe.qw.ea.sd.a..c.vc.vc.v.cv\".split(\".\")\n",
    "print(c)"
   ]
  },
  {
   "cell_type": "code",
   "execution_count": 56,
   "metadata": {},
   "outputs": [
    {
     "name": "stdout",
     "output_type": "stream",
     "text": [
      "['dd', 'fd', 'fd', 'f', 'df', 'd', 'fd', 'fd', 'f', 'df', 'd', 'fd', 'f', 'df', 'w', 'er', 'w', 'er', 'we', 'r', 'sd', 'f', 'c', 'vx', 'cv', 'x', 'cv', 'xcv', '', 'sdf', '']\n"
     ]
    }
   ],
   "source": [
    "v=\"dd,fd,fd,f,df,d,fd,fd,f,df,d,fd,f,df,w,er,w,er,we,r,sd,f,c,vx,cv,x,cv,xcv,,sdf,\".split(\",\")\n",
    "print(v)"
   ]
  },
  {
   "cell_type": "code",
   "execution_count": 57,
   "metadata": {},
   "outputs": [
    {
     "name": "stdout",
     "output_type": "stream",
     "text": [
      "['12', '3', '3', '43', '4', '54', '565', '65', '76', '']\n"
     ]
    }
   ],
   "source": [
    "x=\"1203030430405405650650760\".split(\"0\")\n",
    "print(x)"
   ]
  },
  {
   "cell_type": "code",
   "execution_count": 58,
   "metadata": {},
   "outputs": [
    {
     "name": "stdout",
     "output_type": "stream",
     "text": [
      "['2', '042', '840928', '4098', '40580', '9485028', '452', '4']\n"
     ]
    }
   ],
   "source": [
    "e=\"2304238409283409834058039485028345234\".split(\"3\")\n",
    "print(e)"
   ]
  },
  {
   "cell_type": "code",
   "execution_count": 59,
   "metadata": {},
   "outputs": [
    {
     "name": "stdout",
     "output_type": "stream",
     "text": [
      "['lk2j34kjsdlfkjsldfj2l3kj542l3j4jdfjsdlfkjl', 'xc', 'xc', 'xc', 'xc', 'xc', 'x', '']\n"
     ]
    }
   ],
   "source": [
    "t=\"lk2j34kjsdlfkjsldfj2l3kj542l3j4jdfjsdlfkjlvxcvxcvxcvxcvxcvxv\".split(\"v\")\n",
    "print(t)"
   ]
  },
  {
   "cell_type": "code",
   "execution_count": 60,
   "metadata": {},
   "outputs": [
    {
     "name": "stdout",
     "output_type": "stream",
     "text": [
      "['', 'er', 'er', 'er', 'er', 'er', 'er', 'er', 'er', 'er', 'er', 'er', 'er', 'er', 'er', 'er', 'err', 're']\n"
     ]
    }
   ],
   "source": [
    "w=\"werwerwerwerwerwerwerwerwerwerwerwerwerwerwerwerrwre\".split(\"w\")\n",
    "print(w)"
   ]
  },
  {
   "cell_type": "code",
   "execution_count": 61,
   "metadata": {},
   "outputs": [
    {
     "name": "stdout",
     "output_type": "stream",
     "text": [
      "['sd', 'f', 'sdf', 's', 'df', 'sdf', 's', 'df', 'f', 'g', 'dfg', 'd', 'gh', 'gh', 's', 'df', 'w', 'er', 'w', 'er', 'wer', 'w', 'er']\n"
     ]
    }
   ],
   "source": [
    "s=\"sd f sdf s df sdf s df f g dfg d gh gh s df w er w er wer w er\".split(\" \")\n",
    "print(s)"
   ]
  },
  {
   "cell_type": "code",
   "execution_count": 64,
   "metadata": {},
   "outputs": [
    {
     "name": "stdout",
     "output_type": "stream",
     "text": [
      "['ow', 'erpow', 'epro', 'wpeor', 'wpoer', 'pwoe', 'rpw', '']\n"
     ]
    }
   ],
   "source": [
    "pp=\"owierpowieproiwpeoriwpoeripwoeirpwi\".split(\"i\")\n",
    "print(pp)"
   ]
  },
  {
   "cell_type": "code",
   "execution_count": 69,
   "metadata": {},
   "outputs": [
    {
     "name": "stdout",
     "output_type": "stream",
     "text": [
      "['0w2390234', 'f=edf', 'Df=awe=r', '', 'FD=', 'D', 'w=erD', 'FV', 'SDs=dfsd=f', 'SD', 'SDF', 'SDF']\n"
     ]
    }
   ],
   "source": [
    "sum=\"0w2390234+f=edf+Df=awe=r++FD=+D+w=erD+FV+SDs=dfsd=f+SD+SDF+SDF\".split(\"+\")\n",
    "print(sum)"
   ]
  },
  {
   "cell_type": "code",
   "execution_count": 72,
   "metadata": {},
   "outputs": [
    {
     "name": "stdout",
     "output_type": "stream",
     "text": [
      "['19', '28319283', '91384', '92385', '93', '6938', '495683', '9458', '239485', '18234-', '184', '8219358', '244583', '2485', '29849', '834']\n"
     ]
    }
   ],
   "source": [
    "num=\"19028319283091384092385093069380495683094580239485018234-0184082193580244583024850298490834\".split(\"0\")\n",
    "print(num)"
   ]
  },
  {
   "cell_type": "code",
   "execution_count": 73,
   "metadata": {},
   "outputs": [
    {
     "name": "stdout",
     "output_type": "stream",
     "text": [
      "red green blue\n",
      "redgreenblue\n",
      "red***green***blue\n"
     ]
    }
   ],
   "source": [
    "a = ['red', 'green', 'blue']\n",
    "print(' '.join(a))\n",
    "# вернёт red green blue\n",
    "print(''.join(a))\n",
    "# вернёт redgreenblue\n",
    "print('***'.join(a))\n",
    "# вернёт red***green***blue"
   ]
  },
  {
   "cell_type": "code",
   "execution_count": 76,
   "metadata": {},
   "outputs": [
    {
     "name": "stdout",
     "output_type": "stream",
     "text": [
      "milk coconut meat\n"
     ]
    }
   ],
   "source": [
    "b=[\"milk\",\"coconut\",'meat']\n",
    "print(\" \".join(b))\n"
   ]
  },
  {
   "cell_type": "code",
   "execution_count": 78,
   "metadata": {},
   "outputs": [
    {
     "name": "stdout",
     "output_type": "stream",
     "text": [
      "tea coffer sex\n"
     ]
    }
   ],
   "source": [
    "c=[\"tea\",\"coffer\",\"sex\"]\n",
    "print(\" \".join(c))"
   ]
  },
  {
   "cell_type": "code",
   "execution_count": 80,
   "metadata": {},
   "outputs": [
    {
     "name": "stdout",
     "output_type": "stream",
     "text": [
      "x-y-z\n"
     ]
    }
   ],
   "source": [
    "z=[\"x\",\"y\",\"z\"]\n",
    "print(\"-\".join(z))"
   ]
  },
  {
   "cell_type": "code",
   "execution_count": 82,
   "metadata": {},
   "outputs": [
    {
     "name": "stdout",
     "output_type": "stream",
     "text": [
      "eee***wewe***mumuy\n"
     ]
    }
   ],
   "source": [
    "q=[\"eee\",\"wewe\",\"mumuy\"]\n",
    "print(\"***\".join(q))"
   ]
  },
  {
   "cell_type": "code",
   "execution_count": 84,
   "metadata": {},
   "outputs": [
    {
     "name": "stdout",
     "output_type": "stream",
     "text": [
      "1+2+3\n"
     ]
    }
   ],
   "source": [
    "u=[\"1\",\"2\",\"3\"]\n",
    "print(\"+\".join(u))"
   ]
  },
  {
   "cell_type": "code",
   "execution_count": 86,
   "metadata": {},
   "outputs": [
    {
     "name": "stdout",
     "output_type": "stream",
     "text": [
      "w^()_()^erer^()_()^oortio\n"
     ]
    }
   ],
   "source": [
    "w=[\"w\",\"erer\",\"oortio\"]\n",
    "print(\"^()_()^\".join(w))"
   ]
  },
  {
   "cell_type": "code",
   "execution_count": 88,
   "metadata": {},
   "outputs": [
    {
     "name": "stdout",
     "output_type": "stream",
     "text": [
      "1'-^O_o^-'2'-^O_o^-'3\n"
     ]
    }
   ],
   "source": [
    "v=[\"1\",\"2\",\"3\",]\n",
    "print(\"'-^O_o^-'\".join(v))"
   ]
  },
  {
   "cell_type": "code",
   "execution_count": 90,
   "metadata": {},
   "outputs": [
    {
     "name": "stdout",
     "output_type": "stream",
     "text": [
      "34AAAAAAAAAAAAAAA3434AAAAAAAAAAAAAAA2342\n"
     ]
    }
   ],
   "source": [
    "y=[\"34\",\"3434\",\"2342\"]\n",
    "print(\"AAAAAAAAAAAAAAA\".join(y))"
   ]
  },
  {
   "cell_type": "code",
   "execution_count": 94,
   "metadata": {},
   "outputs": [
    {
     "name": "stdout",
     "output_type": "stream",
     "text": [
      "[1, 1, 1, 1, 1, 1, 1, 1, 1, 1]\n"
     ]
    }
   ],
   "source": [
    "a = [1 for i in range(10)]\n",
    "print(a)"
   ]
  },
  {
   "cell_type": "code",
   "execution_count": 96,
   "metadata": {},
   "outputs": [
    {
     "name": "stdout",
     "output_type": "stream",
     "text": [
      "[2, 2, 2, 2, 2, 2]\n"
     ]
    }
   ],
   "source": [
    "b=[2 for k in range(6)]\n",
    "print(b)"
   ]
  },
  {
   "cell_type": "code",
   "execution_count": 98,
   "metadata": {},
   "outputs": [
    {
     "name": "stdout",
     "output_type": "stream",
     "text": [
      "[3, 3, 3, 3, 3, 3, 3, 3, 3, 3]\n"
     ]
    }
   ],
   "source": [
    "c=[3 for o in range(10)]\n",
    "print(c)"
   ]
  },
  {
   "cell_type": "code",
   "execution_count": 101,
   "metadata": {},
   "outputs": [
    {
     "name": "stdout",
     "output_type": "stream",
     "text": [
      "['ee', 'ee', 'ee', 'ee']\n"
     ]
    }
   ],
   "source": [
    "d=[\"ee\" for u in range(4)]\n",
    "print(d)"
   ]
  },
  {
   "cell_type": "code",
   "execution_count": 103,
   "metadata": {},
   "outputs": [
    {
     "name": "stdout",
     "output_type": "stream",
     "text": [
      "['^+-+^', '^+-+^', '^+-+^', '^+-+^', '^+-+^', '^+-+^', '^+-+^', '^+-+^', '^+-+^', '^+-+^']\n"
     ]
    }
   ],
   "source": [
    "e=[\"^+-+^\" for w in range(10)]\n",
    "print(e)"
   ]
  },
  {
   "cell_type": "code",
   "execution_count": 105,
   "metadata": {},
   "outputs": [
    {
     "name": "stdout",
     "output_type": "stream",
     "text": [
      "[':::///|||\\\\\\\\:::', ':::///|||\\\\\\\\:::', ':::///|||\\\\\\\\:::', ':::///|||\\\\\\\\:::', ':::///|||\\\\\\\\:::', ':::///|||\\\\\\\\:::', ':::///|||\\\\\\\\:::', ':::///|||\\\\\\\\:::', ':::///|||\\\\\\\\:::', ':::///|||\\\\\\\\:::']\n"
     ]
    }
   ],
   "source": [
    "x=[\":::///|||\\\\\\:::\" for q in range(10)]\n",
    "print(x)"
   ]
  },
  {
   "cell_type": "code",
   "execution_count": 107,
   "metadata": {},
   "outputs": [
    {
     "name": "stdout",
     "output_type": "stream",
     "text": [
      "[2342342342, 2342342342, 2342342342, 2342342342, 2342342342]\n",
      "0\n"
     ]
    }
   ],
   "source": [
    "t=[2342342342 for k in range(5)]\n",
    "print(t)\n",
    "print(k)"
   ]
  },
  {
   "cell_type": "code",
   "execution_count": 109,
   "metadata": {},
   "outputs": [
    {
     "name": "stdout",
     "output_type": "stream",
     "text": [
      "[234234, 234234, 234234, 234234, 234234, 234234, 234234, 234234, 234234]\n"
     ]
    }
   ],
   "source": [
    "n=[234234 for p in range(9)]\n",
    "print(n)"
   ]
  },
  {
   "cell_type": "code",
   "execution_count": 111,
   "metadata": {},
   "outputs": [
    {
     "name": "stdout",
     "output_type": "stream",
     "text": [
      "['2342423423423', '2342423423423', '2342423423423', '2342423423423', '2342423423423', '2342423423423', '2342423423423', '2342423423423', '2342423423423', '2342423423423', '2342423423423', '2342423423423']\n"
     ]
    }
   ],
   "source": [
    "m=[\"2342423423423\" for a in range(12)]\n",
    "print(m)"
   ]
  },
  {
   "cell_type": "code",
   "execution_count": 113,
   "metadata": {},
   "outputs": [
    {
     "name": "stdout",
     "output_type": "stream",
     "text": [
      "['werwer', 'werwer', 'werwer', 'werwer', 'werwer', 'werwer', 'werwer', 'werwer', 'werwer', 'werwer', 'werwer']\n"
     ]
    }
   ],
   "source": [
    "i=[\"werwer\" for w in range(11)]\n",
    "print(i)"
   ]
  },
  {
   "cell_type": "code",
   "execution_count": 115,
   "metadata": {},
   "outputs": [
    {
     "name": "stdout",
     "output_type": "stream",
     "text": [
      "['4521', '4521', '4521', '4521', '4521', '4521', '4521', '4521', '4521', '4521', '4521', '4521', '4521', '4521', '4521', '4521', '4521', '4521']\n"
     ]
    }
   ],
   "source": [
    "u=[\"4521\" for y in range(18)]\n",
    "print(u)"
   ]
  },
  {
   "cell_type": "code",
   "execution_count": 117,
   "metadata": {},
   "outputs": [
    {
     "name": "stdout",
     "output_type": "stream",
     "text": [
      "[0, 1, 4, 9, 16]\n"
     ]
    }
   ],
   "source": [
    "n = 5\n",
    "a = [i ** 2 for i in range(n)]\n",
    "print(a)"
   ]
  },
  {
   "cell_type": "code",
   "execution_count": 119,
   "metadata": {},
   "outputs": [
    {
     "name": "stdout",
     "output_type": "stream",
     "text": [
      "10\n",
      "[0, 1, 4, 9, 16, 25, 36, 49, 64, 81]\n"
     ]
    }
   ],
   "source": [
    "m=10\n",
    "b=[k**2 for k in range(m)]\n",
    "print(m)\n",
    "print(b)"
   ]
  },
  {
   "cell_type": "code",
   "execution_count": 121,
   "metadata": {},
   "outputs": [
    {
     "name": "stdout",
     "output_type": "stream",
     "text": [
      "[0, 1, 8, 27, 64, 125, 216, 343, 512, 729, 1000, 1331, 1728, 2197]\n"
     ]
    }
   ],
   "source": [
    "c=14\n",
    "z=[s**3 for s in range(c)]\n",
    "print(z)"
   ]
  },
  {
   "cell_type": "code",
   "execution_count": 124,
   "metadata": {},
   "outputs": [
    {
     "name": "stdout",
     "output_type": "stream",
     "text": [
      "[0, 1, 16, 81, 256, 625, 1296, 2401, 4096, 6561]\n"
     ]
    }
   ],
   "source": [
    "p=8\n",
    "y=[m**4 for m in range(m)]\n",
    "print(y)"
   ]
  },
  {
   "cell_type": "code",
   "execution_count": 126,
   "metadata": {},
   "outputs": [
    {
     "name": "stdout",
     "output_type": "stream",
     "text": [
      "[0, 1, 32, 243, 1024, 3125]\n"
     ]
    }
   ],
   "source": [
    "i=6\n",
    "e=[o**5 for o in range(i)]\n",
    "print(e)"
   ]
  },
  {
   "cell_type": "code",
   "execution_count": 127,
   "metadata": {
    "collapsed": true
   },
   "outputs": [],
   "source": [
    "n = 5\n",
    "a = [i ** 2 for i in range(1, n + 1)]"
   ]
  },
  {
   "cell_type": "code",
   "execution_count": 129,
   "metadata": {},
   "outputs": [
    {
     "name": "stdout",
     "output_type": "stream",
     "text": [
      "[0, 1, 8, 27, 64, 125, 216, 343, 512, 729, 1000]\n"
     ]
    }
   ],
   "source": [
    "k=6\n",
    "b= [u **3 for u in range(0,k+5)]\n",
    "print(b)\n"
   ]
  },
  {
   "cell_type": "code",
   "execution_count": 130,
   "metadata": {},
   "outputs": [
    {
     "name": "stdout",
     "output_type": "stream",
     "text": [
      "5\n",
      "4\n",
      "1\n",
      "2\n",
      "3\n",
      "5\n"
     ]
    }
   ],
   "source": [
    "a = [input() for i in range(int(input()))]"
   ]
  },
  {
   "cell_type": "code",
   "execution_count": 132,
   "metadata": {},
   "outputs": [
    {
     "name": "stdout",
     "output_type": "stream",
     "text": [
      "2\n",
      "1\n",
      "4\n"
     ]
    }
   ],
   "source": [
    "v=[input() for l in range(int(input()))]"
   ]
  },
  {
   "cell_type": "code",
   "execution_count": 134,
   "metadata": {},
   "outputs": [
    {
     "name": "stdout",
     "output_type": "stream",
     "text": [
      "1\n",
      "1\n"
     ]
    }
   ],
   "source": [
    "p=[input() for e in range(int(input()))]"
   ]
  },
  {
   "cell_type": "code",
   "execution_count": null,
   "metadata": {},
   "outputs": [],
   "source": [
    "w=[input() for v in range(int(input()))]\n",
    "print(w)"
   ]
  },
  {
   "cell_type": "code",
   "execution_count": null,
   "metadata": {
    "collapsed": true
   },
   "outputs": [],
   "source": []
  }
 ],
 "metadata": {
  "kernelspec": {
   "display_name": "Python 3",
   "language": "python",
   "name": "python3"
  },
  "language_info": {
   "codemirror_mode": {
    "name": "ipython",
    "version": 3
   },
   "file_extension": ".py",
   "mimetype": "text/x-python",
   "name": "python",
   "nbconvert_exporter": "python",
   "pygments_lexer": "ipython3",
   "version": "3.6.1"
  }
 },
 "nbformat": 4,
 "nbformat_minor": 2
}
