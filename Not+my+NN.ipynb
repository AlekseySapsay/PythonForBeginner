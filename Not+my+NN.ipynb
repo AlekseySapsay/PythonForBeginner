{
 "cells": [
  {
   "cell_type": "code",
   "execution_count": 1,
   "metadata": {},
   "outputs": [
    {
     "name": "stdout",
     "output_type": "stream",
     "text": [
      "0.608656869627\n"
     ]
    }
   ],
   "source": [
    "import numpy\n",
    "def NN (m1,m2,m3,w1,w2,w3,b):\n",
    " x = m1*w1+m2*w2+m3*w3+b\n",
    " return sigmoid(x)\n",
    "def sigmoid(z):\n",
    " return 1/(1+numpy.exp(-z))\n",
    "w1 = numpy.random.randn()\n",
    "w2 = numpy.random.randn()\n",
    "w3 = numpy.random.randn()\n",
    "b = numpy.random.randn()\n",
    "l1 = NN(0,0,0,w1,w2,w3,b)\n",
    "l2 = NN(l1,l1,l1,w1,w2,w3,b)\n",
    "l1_error = 0 - l1\n",
    "l2_error = 0 - l2\n",
    "l2_delta = l1_error*sigmoid(l1)\n",
    "l1_delta = l2_delta*l1\n",
    "i = 1\n",
    "while i > 1000:\n",
    " w1 = w1*l1_delta\n",
    " w2 = w2*l2_delta\n",
    " i = i + 1\n",
    " break\n",
    "print (l2)\n"
   ]
  },
  {
   "cell_type": "code",
   "execution_count": null,
   "metadata": {
    "collapsed": true
   },
   "outputs": [],
   "source": []
  }
 ],
 "metadata": {
  "kernelspec": {
   "display_name": "Python 3",
   "language": "python",
   "name": "python3"
  },
  "language_info": {
   "codemirror_mode": {
    "name": "ipython",
    "version": 3
   },
   "file_extension": ".py",
   "mimetype": "text/x-python",
   "name": "python",
   "nbconvert_exporter": "python",
   "pygments_lexer": "ipython3",
   "version": "3.6.1"
  }
 },
 "nbformat": 4,
 "nbformat_minor": 2
}
