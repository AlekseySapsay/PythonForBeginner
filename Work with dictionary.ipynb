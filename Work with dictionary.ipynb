{
 "cells": [
  {
   "cell_type": "code",
   "execution_count": 1,
   "metadata": {},
   "outputs": [
    {
     "name": "stdout",
     "output_type": "stream",
     "text": [
      "df df df df df\n",
      "df 5\n"
     ]
    }
   ],
   "source": [
    "words = input().lower().split(\" \")\n",
    "wordDict={}\n",
    "for word in words:\n",
    "\n",
    "    if wordDict.get(word) != None:\n",
    "        wordDict[word] += 1\n",
    "    else:\n",
    "        wordDict.setdefault(word,1)\n",
    "\n",
    "for key, value in wordDict.items():\n",
    "    print(key, value) "
   ]
  },
  {
   "cell_type": "code",
   "execution_count": null,
   "metadata": {},
   "outputs": [],
   "source": [
    "wordsDict= input().lower().split(\" \")\n",
    "wordDictionary={}\n",
    "for word in words:\n",
    "    \n",
    "    if wordDictionary.get(word)!=None:\n",
    "        wordDictionary[word]+=1\n",
    "    else:\n",
    "        wordDictionary.setdefault(word,1)\n",
    "\n",
    "for key, value in wordDictionary.items():\n",
    "    print(key,value)"
   ]
  },
  {
   "cell_type": "code",
   "execution_count": 3,
   "metadata": {},
   "outputs": [
    {
     "name": "stdout",
     "output_type": "stream",
     "text": [
      "cv cv cv cv cv\n",
      "cv 5\n"
     ]
    }
   ],
   "source": [
    "words= input().lower().split(\" \")\n",
    "wordDi={}\n",
    "for word in words:\n",
    "\n",
    "    if wordDi.get(word)!=None:\n",
    "        wordDi[word]+=1\n",
    "    else:\n",
    "        wordDi.setdefault(word,1)\n",
    "\n",
    "for key, value in wordDi.items():\n",
    "    print(key,value)"
   ]
  },
  {
   "cell_type": "code",
   "execution_count": 7,
   "metadata": {},
   "outputs": [
    {
     "name": "stdout",
     "output_type": "stream",
     "text": [
      "zzz zx zx zx \n",
      "zzz 1\n",
      "zx 3\n",
      " 1\n"
     ]
    }
   ],
   "source": [
    "words = input().lower().split(\" \")\n",
    "wordD={}\n",
    "for word in words:\n",
    "    if wordD.get(word)!=None:\n",
    "        wordD[word]+=1\n",
    "    else:\n",
    "        wordD.setdefault(word,1)\n",
    "for key, value in wordD.items():\n",
    "    print(key,value)"
   ]
  },
  {
   "cell_type": "code",
   "execution_count": 10,
   "metadata": {},
   "outputs": [
    {
     "name": "stdout",
     "output_type": "stream",
     "text": [
      "vb vb vb vb vb\n",
      "vb 5\n"
     ]
    }
   ],
   "source": [
    "words= input().lower().split(\" \")\n",
    "word_Dict={}\n",
    "for word in words:\n",
    "    if word_Dict.get(word)!=None:\n",
    "        word_Dict[word]=word_Dict[word]+1\n",
    "    else:\n",
    "        word_Dict.setdefault(word,1)\n",
    "for key, value in word_Dict.items():\n",
    "    print(key,value)"
   ]
  },
  {
   "cell_type": "code",
   "execution_count": null,
   "metadata": {
    "collapsed": true
   },
   "outputs": [],
   "source": []
  }
 ],
 "metadata": {
  "kernelspec": {
   "display_name": "Python 3",
   "language": "python",
   "name": "python3"
  },
  "language_info": {
   "codemirror_mode": {
    "name": "ipython",
    "version": 3
   },
   "file_extension": ".py",
   "mimetype": "text/x-python",
   "name": "python",
   "nbconvert_exporter": "python",
   "pygments_lexer": "ipython3",
   "version": "3.6.1"
  }
 },
 "nbformat": 4,
 "nbformat_minor": 2
}
