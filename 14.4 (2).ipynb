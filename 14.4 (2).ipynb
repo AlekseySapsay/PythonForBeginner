{
 "cells": [
  {
   "cell_type": "code",
   "execution_count": 19,
   "metadata": {},
   "outputs": [
    {
     "name": "stdout",
     "output_type": "stream",
     "text": [
      "123 456\n",
      "123 456\n",
      "897 5421\n"
     ]
    },
    {
     "data": {
      "text/plain": [
       "2"
      ]
     },
     "execution_count": 19,
     "metadata": {},
     "output_type": "execute_result"
    }
   ],
   "source": [
    "def FundMinWords(s1):\n",
    "    print(s1)\n",
    "    \n",
    "def SpaceCounter(s1):\n",
    "    n = 0\n",
    "    for i in range(len(s1)):\n",
    "        if s1[i] == ' ':\n",
    "            n += 1\n",
    "    return n+1\n",
    "\n",
    "    \n",
    "    \n",
    "    \n",
    "    \n",
    "FundMinWords(str(input()))\n",
    "\n",
    "\n",
    "SpaceCounter(str(input()))\n"
   ]
  },
  {
   "cell_type": "markdown",
   "metadata": {},
   "source": [
    "14.4. Напишите сперва функцию, , которая получает на вход три строки, и возвращает первую из них.\n",
    "Ok, теперь добавьте код функции, которая считает кол-во слов, и возращайте из FundMinWords() кол-во слов в первой строке.\n",
    "С помощью добавленной функции."
   ]
  },
  {
   "cell_type": "markdown",
   "metadata": {
    "collapsed": true
   },
   "source": [
    "Функции со своим содержимым не должны пересекаться. У вас же была сделана нормально функция, которая считает кол-во слов. Вот в точности скопируйте её со всеми отступами, и добавьте в последний код (21:08), только так, чтобы она была отдельно от функции FundMinWords. Разделите их 5 пустыми строками например."
   ]
  },
  {
   "cell_type": "code",
   "execution_count": null,
   "metadata": {
    "collapsed": true
   },
   "outputs": [],
   "source": []
  }
 ],
 "metadata": {
  "kernelspec": {
   "display_name": "Python 3",
   "language": "python",
   "name": "python3"
  },
  "language_info": {
   "codemirror_mode": {
    "name": "ipython",
    "version": 3
   },
   "file_extension": ".py",
   "mimetype": "text/x-python",
   "name": "python",
   "nbconvert_exporter": "python",
   "pygments_lexer": "ipython3",
   "version": "3.6.6"
  }
 },
 "nbformat": 4,
 "nbformat_minor": 2
}
