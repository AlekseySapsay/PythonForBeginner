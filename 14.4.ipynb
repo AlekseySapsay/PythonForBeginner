{
 "cells": [
  {
   "cell_type": "code",
   "execution_count": 5,
   "metadata": {},
   "outputs": [
    {
     "ename": "IndentationError",
     "evalue": "expected an indented block (<ipython-input-5-ce13fe981ee7>, line 7)",
     "output_type": "error",
     "traceback": [
      "\u001b[1;36m  File \u001b[1;32m\"<ipython-input-5-ce13fe981ee7>\"\u001b[1;36m, line \u001b[1;32m7\u001b[0m\n\u001b[1;33m    def SpaceCounter(s1):\u001b[0m\n\u001b[1;37m      ^\u001b[0m\n\u001b[1;31mIndentationError\u001b[0m\u001b[1;31m:\u001b[0m expected an indented block\n"
     ]
    }
   ],
   "source": [
    "#14.4. Напишите сперва функцию, , которая получает на вход три строки, и возвращает первую из них.\n",
    "#Ok, теперь добавьте код функции, которая считает кол-во слов, и возращайте из FundMinWords() кол-во слов в первой строке.\n",
    "#С помощью добавленной функции.\n",
    "\n",
    "def FundMinWords(s1,s2,s3):\n",
    "    \n",
    "def SpaceCounter(s1):\n",
    "n = 0\n",
    "for i in range(len(s1)):\n",
    "    if s[i] == ' ':\n",
    "        n += 1\n",
    "return n+1\n",
    "x = SpaceCounter(s1)    \n",
    "print(x) \n",
    "\n",
    "FundMinWords(str(input()),str(input()),str(input()))"
   ]
  },
  {
   "cell_type": "code",
   "execution_count": null,
   "metadata": {
    "collapsed": true
   },
   "outputs": [],
   "source": []
  }
 ],
 "metadata": {
  "kernelspec": {
   "display_name": "Python 3",
   "language": "python",
   "name": "python3"
  }
 },
 "nbformat": 4,
 "nbformat_minor": 2
}
